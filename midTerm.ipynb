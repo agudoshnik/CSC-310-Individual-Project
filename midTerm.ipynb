{
  "nbformat": 4,
  "nbformat_minor": 0,
  "metadata": {
    "colab": {
      "name": "midTerm",
      "provenance": []
    },
    "kernelspec": {
      "name": "python3",
      "display_name": "Python 3"
    }
  },
  "cells": [
    {
      "cell_type": "code",
      "metadata": {
        "id": "vHLKECM0DUQa",
        "colab": {
          "base_uri": "https://localhost:8080/",
          "height": 35
        },
        "outputId": "a119c72d-439c-4eef-9d05-7d6f26243d7f"
      },
      "source": [
        "# preamble to be able to run notebooks in Jupyter and Colab\n",
        "try:\n",
        "    from google.colab import drive\n",
        "    import sys\n",
        "    \n",
        "    drive.mount('/content/drive')\n",
        "    notes_home = \"/content/drive/My Drive/csc310/\"\n",
        "    user_home = \"/content/drive/My Drive/\"\n",
        "    \n",
        "    sys.path.insert(1,notes_home) # let the notebook access the notes folder\n",
        "\n",
        "except ModuleNotFoundError:\n",
        "    notes_home = \"\" # running native Jupyter environment -- notes home is the same as the notebook\n",
        "    user_home = \"\"  # under Jupyter we assume the user directory is the same as the notebook"
      ],
      "execution_count": null,
      "outputs": [
        {
          "output_type": "stream",
          "text": [
            "Mounted at /content/drive\n"
          ],
          "name": "stdout"
        }
      ]
    },
    {
      "cell_type": "code",
      "metadata": {
        "id": "2LwEKfREDpKm"
      },
      "source": [
        "import pandas as pd\n",
        "from sklearn import tree\n",
        "from treeviz import tree_print"
      ],
      "execution_count": null,
      "outputs": []
    },
    {
      "cell_type": "markdown",
      "metadata": {
        "id": "G8DotSL5w7qn"
      },
      "source": [
        "##**The Data:**"
      ]
    },
    {
      "cell_type": "code",
      "metadata": {
        "id": "Z4PlcfUGbBoX"
      },
      "source": [
        ""
      ],
      "execution_count": null,
      "outputs": []
    },
    {
      "cell_type": "code",
      "metadata": {
        "id": "OOcWbKb5ImVc",
        "colab": {
          "base_uri": "https://localhost:8080/",
          "height": 415
        },
        "outputId": "ffbbb297-5118-4ddf-cc72-9fc1694e81d4"
      },
      "source": [
        "penguins = pd.read_csv(notes_home+\"penguins.csv\")\n",
        "penguins"
      ],
      "execution_count": null,
      "outputs": [
        {
          "output_type": "execute_result",
          "data": {
            "text/html": [
              "<div>\n",
              "<style scoped>\n",
              "    .dataframe tbody tr th:only-of-type {\n",
              "        vertical-align: middle;\n",
              "    }\n",
              "\n",
              "    .dataframe tbody tr th {\n",
              "        vertical-align: top;\n",
              "    }\n",
              "\n",
              "    .dataframe thead th {\n",
              "        text-align: right;\n",
              "    }\n",
              "</style>\n",
              "<table border=\"1\" class=\"dataframe\">\n",
              "  <thead>\n",
              "    <tr style=\"text-align: right;\">\n",
              "      <th></th>\n",
              "      <th>species</th>\n",
              "      <th>island</th>\n",
              "      <th>bill_length_mm</th>\n",
              "      <th>bill_depth_mm</th>\n",
              "      <th>flipper_length_mm</th>\n",
              "      <th>body_mass_g</th>\n",
              "      <th>sex</th>\n",
              "    </tr>\n",
              "  </thead>\n",
              "  <tbody>\n",
              "    <tr>\n",
              "      <th>0</th>\n",
              "      <td>Adelie</td>\n",
              "      <td>Torgersen</td>\n",
              "      <td>39.1</td>\n",
              "      <td>18.7</td>\n",
              "      <td>181</td>\n",
              "      <td>3750</td>\n",
              "      <td>male</td>\n",
              "    </tr>\n",
              "    <tr>\n",
              "      <th>1</th>\n",
              "      <td>Adelie</td>\n",
              "      <td>Torgersen</td>\n",
              "      <td>39.5</td>\n",
              "      <td>17.4</td>\n",
              "      <td>186</td>\n",
              "      <td>3800</td>\n",
              "      <td>female</td>\n",
              "    </tr>\n",
              "    <tr>\n",
              "      <th>2</th>\n",
              "      <td>Adelie</td>\n",
              "      <td>Torgersen</td>\n",
              "      <td>40.3</td>\n",
              "      <td>18.0</td>\n",
              "      <td>195</td>\n",
              "      <td>3250</td>\n",
              "      <td>female</td>\n",
              "    </tr>\n",
              "    <tr>\n",
              "      <th>3</th>\n",
              "      <td>Adelie</td>\n",
              "      <td>Torgersen</td>\n",
              "      <td>36.7</td>\n",
              "      <td>19.3</td>\n",
              "      <td>193</td>\n",
              "      <td>3450</td>\n",
              "      <td>female</td>\n",
              "    </tr>\n",
              "    <tr>\n",
              "      <th>4</th>\n",
              "      <td>Adelie</td>\n",
              "      <td>Torgersen</td>\n",
              "      <td>39.3</td>\n",
              "      <td>20.6</td>\n",
              "      <td>190</td>\n",
              "      <td>3650</td>\n",
              "      <td>male</td>\n",
              "    </tr>\n",
              "    <tr>\n",
              "      <th>...</th>\n",
              "      <td>...</td>\n",
              "      <td>...</td>\n",
              "      <td>...</td>\n",
              "      <td>...</td>\n",
              "      <td>...</td>\n",
              "      <td>...</td>\n",
              "      <td>...</td>\n",
              "    </tr>\n",
              "    <tr>\n",
              "      <th>328</th>\n",
              "      <td>Chinstrap</td>\n",
              "      <td>Dream</td>\n",
              "      <td>55.8</td>\n",
              "      <td>19.8</td>\n",
              "      <td>207</td>\n",
              "      <td>4000</td>\n",
              "      <td>male</td>\n",
              "    </tr>\n",
              "    <tr>\n",
              "      <th>329</th>\n",
              "      <td>Chinstrap</td>\n",
              "      <td>Dream</td>\n",
              "      <td>43.5</td>\n",
              "      <td>18.1</td>\n",
              "      <td>202</td>\n",
              "      <td>3400</td>\n",
              "      <td>female</td>\n",
              "    </tr>\n",
              "    <tr>\n",
              "      <th>330</th>\n",
              "      <td>Chinstrap</td>\n",
              "      <td>Dream</td>\n",
              "      <td>49.6</td>\n",
              "      <td>18.2</td>\n",
              "      <td>193</td>\n",
              "      <td>3775</td>\n",
              "      <td>male</td>\n",
              "    </tr>\n",
              "    <tr>\n",
              "      <th>331</th>\n",
              "      <td>Chinstrap</td>\n",
              "      <td>Dream</td>\n",
              "      <td>50.8</td>\n",
              "      <td>19.0</td>\n",
              "      <td>210</td>\n",
              "      <td>4100</td>\n",
              "      <td>male</td>\n",
              "    </tr>\n",
              "    <tr>\n",
              "      <th>332</th>\n",
              "      <td>Chinstrap</td>\n",
              "      <td>Dream</td>\n",
              "      <td>50.2</td>\n",
              "      <td>18.7</td>\n",
              "      <td>198</td>\n",
              "      <td>3775</td>\n",
              "      <td>female</td>\n",
              "    </tr>\n",
              "  </tbody>\n",
              "</table>\n",
              "<p>333 rows × 7 columns</p>\n",
              "</div>"
            ],
            "text/plain": [
              "       species     island  ...  body_mass_g     sex\n",
              "0       Adelie  Torgersen  ...         3750    male\n",
              "1       Adelie  Torgersen  ...         3800  female\n",
              "2       Adelie  Torgersen  ...         3250  female\n",
              "3       Adelie  Torgersen  ...         3450  female\n",
              "4       Adelie  Torgersen  ...         3650    male\n",
              "..         ...        ...  ...          ...     ...\n",
              "328  Chinstrap      Dream  ...         4000    male\n",
              "329  Chinstrap      Dream  ...         3400  female\n",
              "330  Chinstrap      Dream  ...         3775    male\n",
              "331  Chinstrap      Dream  ...         4100    male\n",
              "332  Chinstrap      Dream  ...         3775  female\n",
              "\n",
              "[333 rows x 7 columns]"
            ]
          },
          "metadata": {
            "tags": []
          },
          "execution_count": 4
        }
      ]
    },
    {
      "cell_type": "markdown",
      "metadata": {
        "id": "tFQ3Ryd0iFqm"
      },
      "source": [
        "## **Preliminary data analysis:**"
      ]
    },
    {
      "cell_type": "code",
      "metadata": {
        "id": "vhRfQ6M2hSNl",
        "colab": {
          "base_uri": "https://localhost:8080/",
          "height": 294
        },
        "outputId": "2d22fac9-1cc1-4177-d2f1-caf6e9e47d64"
      },
      "source": [
        "penguins.describe()"
      ],
      "execution_count": null,
      "outputs": [
        {
          "output_type": "execute_result",
          "data": {
            "text/html": [
              "<div>\n",
              "<style scoped>\n",
              "    .dataframe tbody tr th:only-of-type {\n",
              "        vertical-align: middle;\n",
              "    }\n",
              "\n",
              "    .dataframe tbody tr th {\n",
              "        vertical-align: top;\n",
              "    }\n",
              "\n",
              "    .dataframe thead th {\n",
              "        text-align: right;\n",
              "    }\n",
              "</style>\n",
              "<table border=\"1\" class=\"dataframe\">\n",
              "  <thead>\n",
              "    <tr style=\"text-align: right;\">\n",
              "      <th></th>\n",
              "      <th>bill_length_mm</th>\n",
              "      <th>bill_depth_mm</th>\n",
              "      <th>flipper_length_mm</th>\n",
              "      <th>body_mass_g</th>\n",
              "    </tr>\n",
              "  </thead>\n",
              "  <tbody>\n",
              "    <tr>\n",
              "      <th>count</th>\n",
              "      <td>333.000000</td>\n",
              "      <td>333.000000</td>\n",
              "      <td>333.000000</td>\n",
              "      <td>333.000000</td>\n",
              "    </tr>\n",
              "    <tr>\n",
              "      <th>mean</th>\n",
              "      <td>43.992793</td>\n",
              "      <td>17.164865</td>\n",
              "      <td>200.966967</td>\n",
              "      <td>4207.057057</td>\n",
              "    </tr>\n",
              "    <tr>\n",
              "      <th>std</th>\n",
              "      <td>5.468668</td>\n",
              "      <td>1.969235</td>\n",
              "      <td>14.015765</td>\n",
              "      <td>805.215802</td>\n",
              "    </tr>\n",
              "    <tr>\n",
              "      <th>min</th>\n",
              "      <td>32.100000</td>\n",
              "      <td>13.100000</td>\n",
              "      <td>172.000000</td>\n",
              "      <td>2700.000000</td>\n",
              "    </tr>\n",
              "    <tr>\n",
              "      <th>25%</th>\n",
              "      <td>39.500000</td>\n",
              "      <td>15.600000</td>\n",
              "      <td>190.000000</td>\n",
              "      <td>3550.000000</td>\n",
              "    </tr>\n",
              "    <tr>\n",
              "      <th>50%</th>\n",
              "      <td>44.500000</td>\n",
              "      <td>17.300000</td>\n",
              "      <td>197.000000</td>\n",
              "      <td>4050.000000</td>\n",
              "    </tr>\n",
              "    <tr>\n",
              "      <th>75%</th>\n",
              "      <td>48.600000</td>\n",
              "      <td>18.700000</td>\n",
              "      <td>213.000000</td>\n",
              "      <td>4775.000000</td>\n",
              "    </tr>\n",
              "    <tr>\n",
              "      <th>max</th>\n",
              "      <td>59.600000</td>\n",
              "      <td>21.500000</td>\n",
              "      <td>231.000000</td>\n",
              "      <td>6300.000000</td>\n",
              "    </tr>\n",
              "  </tbody>\n",
              "</table>\n",
              "</div>"
            ],
            "text/plain": [
              "       bill_length_mm  bill_depth_mm  flipper_length_mm  body_mass_g\n",
              "count      333.000000     333.000000         333.000000   333.000000\n",
              "mean        43.992793      17.164865         200.966967  4207.057057\n",
              "std          5.468668       1.969235          14.015765   805.215802\n",
              "min         32.100000      13.100000         172.000000  2700.000000\n",
              "25%         39.500000      15.600000         190.000000  3550.000000\n",
              "50%         44.500000      17.300000         197.000000  4050.000000\n",
              "75%         48.600000      18.700000         213.000000  4775.000000\n",
              "max         59.600000      21.500000         231.000000  6300.000000"
            ]
          },
          "metadata": {
            "tags": []
          },
          "execution_count": 5
        }
      ]
    },
    {
      "cell_type": "code",
      "metadata": {
        "id": "sjGlmFgAE8pL",
        "colab": {
          "base_uri": "https://localhost:8080/",
          "height": 87
        },
        "outputId": "7929f7a0-99d1-4612-aa16-8a55d20a6ee3"
      },
      "source": [
        "penguins.island.value_counts()"
      ],
      "execution_count": null,
      "outputs": [
        {
          "output_type": "execute_result",
          "data": {
            "text/plain": [
              "Biscoe       163\n",
              "Dream        123\n",
              "Torgersen     47\n",
              "Name: island, dtype: int64"
            ]
          },
          "metadata": {
            "tags": []
          },
          "execution_count": 6
        }
      ]
    },
    {
      "cell_type": "code",
      "metadata": {
        "id": "EKD1-LUpFbwl",
        "colab": {
          "base_uri": "https://localhost:8080/",
          "height": 69
        },
        "outputId": "e65a9f1c-a065-4485-84df-4ad08e5b4615"
      },
      "source": [
        "penguins.sex.value_counts()"
      ],
      "execution_count": null,
      "outputs": [
        {
          "output_type": "execute_result",
          "data": {
            "text/plain": [
              "male      168\n",
              "female    165\n",
              "Name: sex, dtype: int64"
            ]
          },
          "metadata": {
            "tags": []
          },
          "execution_count": 7
        }
      ]
    },
    {
      "cell_type": "code",
      "metadata": {
        "id": "qJrt9EMPFgpE",
        "colab": {
          "base_uri": "https://localhost:8080/",
          "height": 87
        },
        "outputId": "39123d28-339c-475f-ba39-a82e35adbc67"
      },
      "source": [
        "penguins.species.value_counts()"
      ],
      "execution_count": null,
      "outputs": [
        {
          "output_type": "execute_result",
          "data": {
            "text/plain": [
              "Adelie       146\n",
              "Gentoo       119\n",
              "Chinstrap     68\n",
              "Name: species, dtype: int64"
            ]
          },
          "metadata": {
            "tags": []
          },
          "execution_count": 8
        }
      ]
    },
    {
      "cell_type": "code",
      "metadata": {
        "id": "KkLbin12h8-Y",
        "colab": {
          "base_uri": "https://localhost:8080/",
          "height": 156
        },
        "outputId": "0fee640e-3f80-4d82-9dcc-65d59d8a473e"
      },
      "source": [
        "penguins.count()"
      ],
      "execution_count": null,
      "outputs": [
        {
          "output_type": "execute_result",
          "data": {
            "text/plain": [
              "species              333\n",
              "island               333\n",
              "bill_length_mm       333\n",
              "bill_depth_mm        333\n",
              "flipper_length_mm    333\n",
              "body_mass_g          333\n",
              "sex                  333\n",
              "dtype: int64"
            ]
          },
          "metadata": {
            "tags": []
          },
          "execution_count": 9
        }
      ]
    },
    {
      "cell_type": "markdown",
      "metadata": {
        "id": "VX5A785Y-hGE"
      },
      "source": [
        "##**Data Description:**"
      ]
    },
    {
      "cell_type": "markdown",
      "metadata": {
        "id": "AUCWVCfuxQzB"
      },
      "source": [
        "This is a complete dataset about 333 penguins that were tagged and measured. The data set contains species of penguin,what island they are from, bill length in millimeters, bill depth in millimeters, flipper length in millimeters, body mass in grams and penguin sex. The species of penguins in this data set include 68 Chinstrap,146 Adelie, and  119 Gentoo. The islands these birds were tagged include 123 from Dream, 163 from Biscoe and 47 from Torgersen. Out of these 333 birds, 168 were male and 165 were female."
      ]
    },
    {
      "cell_type": "markdown",
      "metadata": {
        "id": "NakpyNC2ig_-"
      },
      "source": [
        "###**Visualization:**"
      ]
    },
    {
      "cell_type": "markdown",
      "metadata": {
        "id": "9tRoaqes9aIE"
      },
      "source": [
        "##**Histograms:**"
      ]
    },
    {
      "cell_type": "code",
      "metadata": {
        "id": "f16Q-z_EIsAc",
        "colab": {
          "base_uri": "https://localhost:8080/",
          "height": 283
        },
        "outputId": "57683e09-ce0c-437c-edaa-656af2f87026"
      },
      "source": [
        "penguins.species.hist()"
      ],
      "execution_count": null,
      "outputs": [
        {
          "output_type": "execute_result",
          "data": {
            "text/plain": [
              "<matplotlib.axes._subplots.AxesSubplot at 0x7f4c9d2a5828>"
            ]
          },
          "metadata": {
            "tags": []
          },
          "execution_count": 10
        },
        {
          "output_type": "display_data",
          "data": {
            "image/png": "[encoded data removed]",
            "text/plain": [
              "<Figure size 432x288 with 1 Axes>"
            ]
          },
          "metadata": {
            "tags": [],
            "needs_background": "light"
          }
        }
      ]
    },
    {
      "cell_type": "code",
      "metadata": {
        "id": "55XSraWTLW1P",
        "colab": {
          "base_uri": "https://localhost:8080/",
          "height": 283
        },
        "outputId": "345f2a26-9c16-4ef8-d352-d815f7a9c04f"
      },
      "source": [
        "penguins.island.hist()"
      ],
      "execution_count": null,
      "outputs": [
        {
          "output_type": "execute_result",
          "data": {
            "text/plain": [
              "<matplotlib.axes._subplots.AxesSubplot at 0x7f4c9d17cd68>"
            ]
          },
          "metadata": {
            "tags": []
          },
          "execution_count": 11
        },
        {
          "output_type": "display_data",
          "data": {
            "image/png": "[encoded data removed]",
            "text/plain": [
              "<Figure size 432x288 with 1 Axes>"
            ]
          },
          "metadata": {
            "tags": [],
            "needs_background": "light"
          }
        }
      ]
    },
    {
      "cell_type": "code",
      "metadata": {
        "id": "pPgQF3YI9on6",
        "colab": {
          "base_uri": "https://localhost:8080/",
          "height": 283
        },
        "outputId": "7c49788e-cc20-4fdb-8308-4f3a0cacc69a"
      },
      "source": [
        "penguins.sex.hist()"
      ],
      "execution_count": null,
      "outputs": [
        {
          "output_type": "execute_result",
          "data": {
            "text/plain": [
              "<matplotlib.axes._subplots.AxesSubplot at 0x7f4c9ca837f0>"
            ]
          },
          "metadata": {
            "tags": []
          },
          "execution_count": 28
        },
        {
          "output_type": "display_data",
          "data": {
            "image/png": "[encoded data removed]",
            "text/plain": [
              "<Figure size 432x288 with 1 Axes>"
            ]
          },
          "metadata": {
            "tags": [],
            "needs_background": "light"
          }
        }
      ]
    },
    {
      "cell_type": "markdown",
      "metadata": {
        "id": "WL7XFcnX9feW"
      },
      "source": [
        "##**Boxplots:**"
      ]
    },
    {
      "cell_type": "code",
      "metadata": {
        "id": "rko50BOB8SwZ",
        "colab": {
          "base_uri": "https://localhost:8080/",
          "height": 283
        },
        "outputId": "aa153596-4699-45e2-d412-fc4af73b34a7"
      },
      "source": [
        "penguins.bill_length_mm.plot.box()"
      ],
      "execution_count": null,
      "outputs": [
        {
          "output_type": "execute_result",
          "data": {
            "text/plain": [
              "<matplotlib.axes._subplots.AxesSubplot at 0x7f4c9c6c0320>"
            ]
          },
          "metadata": {
            "tags": []
          },
          "execution_count": 25
        },
        {
          "output_type": "display_data",
          "data": {
            "image/png": "[encoded data removed]",
            "text/plain": [
              "<Figure size 432x288 with 1 Axes>"
            ]
          },
          "metadata": {
            "tags": [],
            "needs_background": "light"
          }
        }
      ]
    },
    {
      "cell_type": "code",
      "metadata": {
        "id": "rDcRjIrN9PS4",
        "colab": {
          "base_uri": "https://localhost:8080/",
          "height": 283
        },
        "outputId": "c38d396a-6f4c-4853-fc70-e55af81c6aff"
      },
      "source": [
        "penguins.bill_depth_mm.plot.box()"
      ],
      "execution_count": null,
      "outputs": [
        {
          "output_type": "execute_result",
          "data": {
            "text/plain": [
              "<matplotlib.axes._subplots.AxesSubplot at 0x7f4c9cadb128>"
            ]
          },
          "metadata": {
            "tags": []
          },
          "execution_count": 26
        },
        {
          "output_type": "display_data",
          "data": {
            "image/png": "[encoded data removed]",
            "text/plain": [
              "<Figure size 432x288 with 1 Axes>"
            ]
          },
          "metadata": {
            "tags": [],
            "needs_background": "light"
          }
        }
      ]
    },
    {
      "cell_type": "code",
      "metadata": {
        "id": "5I3cqe9A9Ur2",
        "colab": {
          "base_uri": "https://localhost:8080/",
          "height": 283
        },
        "outputId": "3dad2e94-764e-4e39-81cc-f251d0ba80b5"
      },
      "source": [
        "penguins.flipper_length_mm.plot.box()"
      ],
      "execution_count": null,
      "outputs": [
        {
          "output_type": "execute_result",
          "data": {
            "text/plain": [
              "<matplotlib.axes._subplots.AxesSubplot at 0x7f4c9c580dd8>"
            ]
          },
          "metadata": {
            "tags": []
          },
          "execution_count": 27
        },
        {
          "output_type": "display_data",
          "data": {
            "image/png": "[encoded data removed]",
            "text/plain": [
              "<Figure size 432x288 with 1 Axes>"
            ]
          },
          "metadata": {
            "tags": [],
            "needs_background": "light"
          }
        }
      ]
    },
    {
      "cell_type": "code",
      "metadata": {
        "id": "jrC1FThy9xNG",
        "colab": {
          "base_uri": "https://localhost:8080/",
          "height": 283
        },
        "outputId": "59a22da3-442d-4aec-e5a6-5f1beb703c4f"
      },
      "source": [
        "penguins.body_mass_g.plot.box()"
      ],
      "execution_count": null,
      "outputs": [
        {
          "output_type": "execute_result",
          "data": {
            "text/plain": [
              "<matplotlib.axes._subplots.AxesSubplot at 0x7f4c9c473b00>"
            ]
          },
          "metadata": {
            "tags": []
          },
          "execution_count": 29
        },
        {
          "output_type": "display_data",
          "data": {
            "image/png": "[encoded data removed]",
            "text/plain": [
              "<Figure size 432x288 with 1 Axes>"
            ]
          },
          "metadata": {
            "tags": [],
            "needs_background": "light"
          }
        }
      ]
    },
    {
      "cell_type": "markdown",
      "metadata": {
        "id": "o_FcBZFauFPk"
      },
      "source": [
        "##**Species Scatter Data:**"
      ]
    },
    {
      "cell_type": "code",
      "metadata": {
        "id": "rso_3SRnLywU",
        "colab": {
          "base_uri": "https://localhost:8080/",
          "height": 297
        },
        "outputId": "68408192-e29a-4204-c5d7-718df60c8877"
      },
      "source": [
        "penguins.plot.scatter(\"species\",\"body_mass_g\")"
      ],
      "execution_count": null,
      "outputs": [
        {
          "output_type": "execute_result",
          "data": {
            "text/plain": [
              "<matplotlib.axes._subplots.AxesSubplot at 0x7f60758a6c50>"
            ]
          },
          "metadata": {
            "tags": []
          },
          "execution_count": 12
        },
        {
          "output_type": "display_data",
          "data": {
            "image/png": "[encoded data removed]",
            "text/plain": [
              "<Figure size 432x288 with 1 Axes>"
            ]
          },
          "metadata": {
            "tags": [],
            "needs_background": "light"
          }
        }
      ]
    },
    {
      "cell_type": "code",
      "metadata": {
        "id": "6ZWR0i0ls6CN",
        "colab": {
          "base_uri": "https://localhost:8080/",
          "height": 297
        },
        "outputId": "2664a5e1-9506-4e40-b281-869cea82f563"
      },
      "source": [
        "penguins.plot.scatter(\"species\",\"bill_length_mm\")"
      ],
      "execution_count": null,
      "outputs": [
        {
          "output_type": "execute_result",
          "data": {
            "text/plain": [
              "<matplotlib.axes._subplots.AxesSubplot at 0x7f606d619d30>"
            ]
          },
          "metadata": {
            "tags": []
          },
          "execution_count": 82
        },
        {
          "output_type": "display_data",
          "data": {
            "image/png": "[encoded data removed]",
            "text/plain": [
              "<Figure size 432x288 with 1 Axes>"
            ]
          },
          "metadata": {
            "tags": [],
            "needs_background": "light"
          }
        }
      ]
    },
    {
      "cell_type": "code",
      "metadata": {
        "id": "RepRwbqKtFbt",
        "colab": {
          "base_uri": "https://localhost:8080/",
          "height": 297
        },
        "outputId": "fa1b3741-726f-486a-9b8e-9a4612559d4e"
      },
      "source": [
        "penguins.plot.scatter(\"species\",\"bill_depth_mm\")"
      ],
      "execution_count": null,
      "outputs": [
        {
          "output_type": "execute_result",
          "data": {
            "text/plain": [
              "<matplotlib.axes._subplots.AxesSubplot at 0x7f606d5e9860>"
            ]
          },
          "metadata": {
            "tags": []
          },
          "execution_count": 83
        },
        {
          "output_type": "display_data",
          "data": {
            "image/png": "[encoded data removed]",
            "text/plain": [
              "<Figure size 432x288 with 1 Axes>"
            ]
          },
          "metadata": {
            "tags": [],
            "needs_background": "light"
          }
        }
      ]
    },
    {
      "cell_type": "code",
      "metadata": {
        "id": "JxwU4mJ_tOTR",
        "colab": {
          "base_uri": "https://localhost:8080/",
          "height": 297
        },
        "outputId": "8a4a2f08-b3d5-444a-d49a-05e481420b25"
      },
      "source": [
        "penguins.plot.scatter(\"species\",\"flipper_length_mm\")"
      ],
      "execution_count": null,
      "outputs": [
        {
          "output_type": "execute_result",
          "data": {
            "text/plain": [
              "<matplotlib.axes._subplots.AxesSubplot at 0x7f606d5b4128>"
            ]
          },
          "metadata": {
            "tags": []
          },
          "execution_count": 84
        },
        {
          "output_type": "display_data",
          "data": {
            "image/png": "[encoded data removed]",
            "text/plain": [
              "<Figure size 432x288 with 1 Axes>"
            ]
          },
          "metadata": {
            "tags": [],
            "needs_background": "light"
          }
        }
      ]
    },
    {
      "cell_type": "markdown",
      "metadata": {
        "id": "ro7jygHht_EQ"
      },
      "source": [
        "##**Island Scatter Data:**"
      ]
    },
    {
      "cell_type": "code",
      "metadata": {
        "id": "rZsDRVl7tY3g",
        "colab": {
          "base_uri": "https://localhost:8080/",
          "height": 297
        },
        "outputId": "99e77df7-e344-44a8-c964-fbe5f3eca56c"
      },
      "source": [
        "penguins.plot.scatter(\"island\",\"bill_depth_mm\")"
      ],
      "execution_count": null,
      "outputs": [
        {
          "output_type": "execute_result",
          "data": {
            "text/plain": [
              "<matplotlib.axes._subplots.AxesSubplot at 0x7f4c9d1d1630>"
            ]
          },
          "metadata": {
            "tags": []
          },
          "execution_count": 36
        },
        {
          "output_type": "display_data",
          "data": {
            "image/png": "[encoded data removed]",
            "text/plain": [
              "<Figure size 432x288 with 1 Axes>"
            ]
          },
          "metadata": {
            "tags": [],
            "needs_background": "light"
          }
        }
      ]
    },
    {
      "cell_type": "code",
      "metadata": {
        "id": "0RNakNk7tebb",
        "colab": {
          "base_uri": "https://localhost:8080/",
          "height": 297
        },
        "outputId": "47862696-e61d-4b64-d528-3ba6b48bc7f0"
      },
      "source": [
        "penguins.plot.scatter(\"island\",\"flipper_length_mm\")"
      ],
      "execution_count": null,
      "outputs": [
        {
          "output_type": "execute_result",
          "data": {
            "text/plain": [
              "<matplotlib.axes._subplots.AxesSubplot at 0x7f606d556da0>"
            ]
          },
          "metadata": {
            "tags": []
          },
          "execution_count": 86
        },
        {
          "output_type": "display_data",
          "data": {
            "image/png": "[encoded data removed]",
            "text/plain": [
              "<Figure size 432x288 with 1 Axes>"
            ]
          },
          "metadata": {
            "tags": [],
            "needs_background": "light"
          }
        }
      ]
    },
    {
      "cell_type": "code",
      "metadata": {
        "id": "Nq_u9uFNtm7G",
        "colab": {
          "base_uri": "https://localhost:8080/",
          "height": 297
        },
        "outputId": "cc893b2e-5d27-46e3-ad91-5cf25a6eaf72"
      },
      "source": [
        "penguins.plot.scatter(\"island\",\"bill_length_mm\")"
      ],
      "execution_count": null,
      "outputs": [
        {
          "output_type": "execute_result",
          "data": {
            "text/plain": [
              "<matplotlib.axes._subplots.AxesSubplot at 0x7f606d5e3b00>"
            ]
          },
          "metadata": {
            "tags": []
          },
          "execution_count": 87
        },
        {
          "output_type": "display_data",
          "data": {
            "image/png": "[encoded data removed]",
            "text/plain": [
              "<Figure size 432x288 with 1 Axes>"
            ]
          },
          "metadata": {
            "tags": [],
            "needs_background": "light"
          }
        }
      ]
    },
    {
      "cell_type": "code",
      "metadata": {
        "id": "_VjK1oAZtyBB",
        "colab": {
          "base_uri": "https://localhost:8080/",
          "height": 297
        },
        "outputId": "b36aefa6-aef2-43e4-bb34-0384e33d1ac3"
      },
      "source": [
        "penguins.plot.scatter(\"island\",\"body_mass_g\")"
      ],
      "execution_count": null,
      "outputs": [
        {
          "output_type": "execute_result",
          "data": {
            "text/plain": [
              "<matplotlib.axes._subplots.AxesSubplot at 0x7f606d46aa90>"
            ]
          },
          "metadata": {
            "tags": []
          },
          "execution_count": 88
        },
        {
          "output_type": "display_data",
          "data": {
            "image/png": "[encoded data removed]",
            "text/plain": [
              "<Figure size 432x288 with 1 Axes>"
            ]
          },
          "metadata": {
            "tags": [],
            "needs_background": "light"
          }
        }
      ]
    },
    {
      "cell_type": "markdown",
      "metadata": {
        "id": "DcLj_oMEQEJP"
      },
      "source": [
        "##**Unrestricted Model:**"
      ]
    },
    {
      "cell_type": "code",
      "metadata": {
        "id": "3WE657ylCrTL",
        "colab": {
          "base_uri": "https://localhost:8080/",
          "height": 183
        },
        "outputId": "b3f0015a-86eb-42f2-c84d-faf68434017c"
      },
      "source": [
        "features_penguins = penguins.drop(['species','island','sex'],axis=1)\n",
        "features_penguins.head()"
      ],
      "execution_count": null,
      "outputs": [
        {
          "output_type": "error",
          "ename": "NameError",
          "evalue": "ignored",
          "traceback": [
            "\u001b[0;31m---------------------------------------------------------------------------\u001b[0m",
            "\u001b[0;31mNameError\u001b[0m                                 Traceback (most recent call last)",
            "\u001b[0;32m<ipython-input-1-5a4060b72cbe>\u001b[0m in \u001b[0;36m<module>\u001b[0;34m()\u001b[0m\n\u001b[0;32m----> 1\u001b[0;31m \u001b[0mfeatures_penguins\u001b[0m \u001b[0;34m=\u001b[0m \u001b[0mpenguins\u001b[0m\u001b[0;34m.\u001b[0m\u001b[0mdrop\u001b[0m\u001b[0;34m(\u001b[0m\u001b[0;34m[\u001b[0m\u001b[0;34m'species'\u001b[0m\u001b[0;34m,\u001b[0m\u001b[0;34m'island'\u001b[0m\u001b[0;34m,\u001b[0m\u001b[0;34m'sex'\u001b[0m\u001b[0;34m]\u001b[0m\u001b[0;34m,\u001b[0m\u001b[0maxis\u001b[0m\u001b[0;34m=\u001b[0m\u001b[0;36m1\u001b[0m\u001b[0;34m)\u001b[0m\u001b[0;34m\u001b[0m\u001b[0;34m\u001b[0m\u001b[0m\n\u001b[0m\u001b[1;32m      2\u001b[0m \u001b[0mfeatures_penguins\u001b[0m\u001b[0;34m.\u001b[0m\u001b[0mhead\u001b[0m\u001b[0;34m(\u001b[0m\u001b[0;34m)\u001b[0m\u001b[0;34m\u001b[0m\u001b[0;34m\u001b[0m\u001b[0m\n",
            "\u001b[0;31mNameError\u001b[0m: name 'penguins' is not defined"
          ]
        }
      ]
    },
    {
      "cell_type": "code",
      "metadata": {
        "id": "kvN3g570PAtN",
        "colab": {
          "base_uri": "https://localhost:8080/",
          "height": 183
        },
        "outputId": "82ab732d-aaa1-494c-a9ec-418a92004475"
      },
      "source": [
        "target_penguins = pd.DataFrame(penguins['species'])\n",
        "target_penguins.head()"
      ],
      "execution_count": null,
      "outputs": [
        {
          "output_type": "error",
          "ename": "NameError",
          "evalue": "ignored",
          "traceback": [
            "\u001b[0;31m---------------------------------------------------------------------------\u001b[0m",
            "\u001b[0;31mNameError\u001b[0m                                 Traceback (most recent call last)",
            "\u001b[0;32m<ipython-input-2-9807904a58d4>\u001b[0m in \u001b[0;36m<module>\u001b[0;34m()\u001b[0m\n\u001b[0;32m----> 1\u001b[0;31m \u001b[0mtarget_penguins\u001b[0m \u001b[0;34m=\u001b[0m \u001b[0mpd\u001b[0m\u001b[0;34m.\u001b[0m\u001b[0mDataFrame\u001b[0m\u001b[0;34m(\u001b[0m\u001b[0mpenguins\u001b[0m\u001b[0;34m[\u001b[0m\u001b[0;34m'species'\u001b[0m\u001b[0;34m]\u001b[0m\u001b[0;34m)\u001b[0m\u001b[0;34m\u001b[0m\u001b[0;34m\u001b[0m\u001b[0m\n\u001b[0m\u001b[1;32m      2\u001b[0m \u001b[0mtarget_penguins\u001b[0m\u001b[0;34m.\u001b[0m\u001b[0mhead\u001b[0m\u001b[0;34m(\u001b[0m\u001b[0;34m)\u001b[0m\u001b[0;34m\u001b[0m\u001b[0;34m\u001b[0m\u001b[0m\n",
            "\u001b[0;31mNameError\u001b[0m: name 'pd' is not defined"
          ]
        }
      ]
    },
    {
      "cell_type": "code",
      "metadata": {
        "id": "W3TqdC-EPOIc"
      },
      "source": [
        "dtree = tree.DecisionTreeClassifier(criterion='entropy')"
      ],
      "execution_count": null,
      "outputs": []
    },
    {
      "cell_type": "code",
      "metadata": {
        "id": "Vg-EVMkCPR5J"
      },
      "source": [
        "dtree.fit(features_penguins,target_penguins)"
      ],
      "execution_count": null,
      "outputs": []
    },
    {
      "cell_type": "code",
      "metadata": {
        "id": "GZcPcE6OPguQ"
      },
      "source": [
        "tree_print(dtree,features_penguins)"
      ],
      "execution_count": null,
      "outputs": []
    },
    {
      "cell_type": "code",
      "metadata": {
        "id": "vSfxatH-PptA"
      },
      "source": [
        "predict_array = dtree.predict(features_penguins)      # produces an array of labels\n",
        "predicted_labels = pd.DataFrame(predict_array)  # turn it into a DF\n",
        "predicted_labels.columns = ['species']  \n",
        "predicted_labels.head()"
      ],
      "execution_count": null,
      "outputs": []
    },
    {
      "cell_type": "code",
      "metadata": {
        "id": "IlyvbjzfP081"
      },
      "source": [
        "predicted_labels.equals(target_penguins)"
      ],
      "execution_count": null,
      "outputs": []
    },
    {
      "cell_type": "code",
      "metadata": {
        "id": "PTF-y31pP5lC"
      },
      "source": [
        "from sklearn.metrics import accuracy_score\n",
        "print(\"Our model accuracy is: {}\".format(accuracy_score(target_penguins, predicted_labels)))"
      ],
      "execution_count": null,
      "outputs": []
    },
    {
      "cell_type": "markdown",
      "metadata": {
        "id": "tm_Mmea-QNIG"
      },
      "source": [
        "##**Regulated Models:**"
      ]
    },
    {
      "cell_type": "code",
      "metadata": {
        "id": "tyEih9Oyf9xy"
      },
      "source": [
        "# set up our sklearn data shape for the penguin data\n",
        "from sklearn.model_selection import train_test_split\n",
        "penguins2 = pd.read_csv(notes_home+\"penguins.csv\")\n",
        "X  = penguins2.drop(['species','island','sex'],axis=1)\n",
        "y = penguins2['species']\n",
        "\n",
        "# split the data - 70% training 30% testing\n",
        "datasets = train_test_split(X, y, train_size=0.7, test_size=0.3, random_state=2)\n",
        "X_train, X_test, y_train, y_test = datasets"
      ],
      "execution_count": null,
      "outputs": []
    },
    {
      "cell_type": "markdown",
      "metadata": {
        "id": "52jSq6IxiJp5"
      },
      "source": [
        "##**Low:**"
      ]
    },
    {
      "cell_type": "code",
      "metadata": {
        "id": "vKvWlXh4gaqX",
        "colab": {
          "base_uri": "https://localhost:8080/"
        },
        "outputId": "82997e98-ef6c-45ca-f4f9-a4b87b3e6e48"
      },
      "source": [
        "# set up the tree model object - limit the complexity to put us somewhere in the middle of the graph.\n",
        "model = tree.DecisionTreeClassifier(criterion='entropy', max_depth=1)\n",
        "\n",
        "# fit the model on the training set of data\n",
        "model.fit(X_train, y_train)\n",
        "tree_print(model,X)\n",
        "\n",
        "# Train results: evaluate the model on the testing set of data\n",
        "y_train_model = model.predict(X_train)\n",
        "print(\"Train Accuracy: {:3.2f}\".format(accuracy_score(y_train, y_train_model)))\n",
        "\n",
        "# Test results: evaluate the model on the testing set of data\n",
        "y_test_model = model.predict(X_test)\n",
        "print(\"Test Accuracy: {:3.2f}\".format(accuracy_score(y_test, y_test_model)))"
      ],
      "execution_count": null,
      "outputs": [
        {
          "output_type": "stream",
          "text": [
            "if flipper_length_mm =< 206.0: \n",
            "  |then Adelie\n",
            "  |else Gentoo\n",
            "<->\n",
            "Tree Depth:  1\n",
            "Train Accuracy: 0.78\n",
            "Test Accuracy: 0.80\n"
          ],
          "name": "stdout"
        }
      ]
    },
    {
      "cell_type": "markdown",
      "metadata": {
        "id": "63dgeLAGiPje"
      },
      "source": [
        "##**Medium:**"
      ]
    },
    {
      "cell_type": "code",
      "metadata": {
        "id": "_hxnnvDBgcGG",
        "colab": {
          "base_uri": "https://localhost:8080/",
          "height": 312
        },
        "outputId": "74f85265-6994-475d-c463-598810121401"
      },
      "source": [
        "# set up the tree model object - limit the complexity to put us somewhere in the middle of the graph.\n",
        "model = tree.DecisionTreeClassifier(criterion='entropy', max_depth=3)\n",
        "\n",
        "# fit the model on the training set of data\n",
        "model.fit(X_train, y_train)\n",
        "tree_print(model,X)\n",
        "\n",
        "# Train results: evaluate the model on the testing set of data\n",
        "y_train_model = model.predict(X_train)\n",
        "print(\"Train Accuracy: {:3.2f}\".format(accuracy_score(y_train, y_train_model)))\n",
        "\n",
        "# Test results: evaluate the model on the testing set of data\n",
        "y_test_model = model.predict(X_test)\n",
        "print(\"Test Accuracy: {:3.2f}\".format(accuracy_score(y_test, y_test_model)))"
      ],
      "execution_count": null,
      "outputs": [
        {
          "output_type": "stream",
          "text": [
            "if flipper_length_mm =< 206.0: \n",
            "  |then if bill_length_mm =< 42.35000038146973: \n",
            "  |  |then if bill_depth_mm =< 16.699999809265137: \n",
            "  |  |  |then Adelie\n",
            "  |  |  |else Adelie\n",
            "  |  |else if bill_length_mm =< 46.04999923706055: \n",
            "  |  |  |then Chinstrap\n",
            "  |  |  |else Chinstrap\n",
            "  |else if bill_depth_mm =< 17.649999618530273: \n",
            "  |  |then Gentoo\n",
            "  |  |else if bill_depth_mm =< 18.75: \n",
            "  |  |  |then Adelie\n",
            "  |  |  |else Chinstrap\n",
            "<------->\n",
            "Tree Depth:  3\n",
            "Train Accuracy: 0.96\n",
            "Test Accuracy: 0.96\n"
          ],
          "name": "stdout"
        }
      ]
    },
    {
      "cell_type": "markdown",
      "metadata": {
        "id": "oXZpU248ifju"
      },
      "source": [
        "##**High:**"
      ]
    },
    {
      "cell_type": "code",
      "metadata": {
        "id": "11vIa_8lggfM",
        "colab": {
          "base_uri": "https://localhost:8080/"
        },
        "outputId": "e0e0ce50-53e9-4b79-8b58-156b242d7dde"
      },
      "source": [
        "# set up the tree model object - limit the complexity to put us somewhere in the middle of the graph.\n",
        "model = tree.DecisionTreeClassifier(criterion='entropy', max_depth=None)\n",
        "\n",
        "# fit the model on the training set of data\n",
        "model.fit(X_train, y_train)\n",
        "tree_print(model,X)\n",
        "\n",
        "# Train results: evaluate the model on the testing set of data\n",
        "y_train_model = model.predict(X_train)\n",
        "print(\"Train Accuracy: {:3.2f}\".format(accuracy_score(y_train, y_train_model)))\n",
        "\n",
        "# Test results: evaluate the model on the testing set of data\n",
        "y_test_model = model.predict(X_test)\n",
        "print(\"Test Accuracy: {:3.2f}\".format(accuracy_score(y_test, y_test_model)))"
      ],
      "execution_count": null,
      "outputs": [
        {
          "output_type": "stream",
          "text": [
            "if flipper_length_mm =< 206.0: \n",
            "  |then if bill_length_mm =< 42.35000038146973: \n",
            "  |  |then if bill_depth_mm =< 16.699999809265137: \n",
            "  |  |  |then if bill_length_mm =< 39.30000114440918: \n",
            "  |  |  |  |then Adelie\n",
            "  |  |  |  |else Chinstrap\n",
            "  |  |  |else Adelie\n",
            "  |  |else if bill_length_mm =< 46.04999923706055: \n",
            "  |  |  |then if body_mass_g =< 4012.5: \n",
            "  |  |  |  |then if bill_depth_mm =< 18.65000057220459: \n",
            "  |  |  |  |  |then Chinstrap\n",
            "  |  |  |  |  |else if bill_length_mm =< 44.349998474121094: \n",
            "  |  |  |  |  |  |then Adelie\n",
            "  |  |  |  |  |  |else Chinstrap\n",
            "  |  |  |  |else if bill_length_mm =< 45.79999923706055: \n",
            "  |  |  |  |  |then Adelie\n",
            "  |  |  |  |  |else if flipper_length_mm =< 194.5: \n",
            "  |  |  |  |  |  |then Adelie\n",
            "  |  |  |  |  |  |else Chinstrap\n",
            "  |  |  |else if bill_depth_mm =< 15.399999618530273: \n",
            "  |  |  |  |then Gentoo\n",
            "  |  |  |  |else Chinstrap\n",
            "  |else if bill_depth_mm =< 17.649999618530273: \n",
            "  |  |then Gentoo\n",
            "  |  |else if bill_depth_mm =< 18.75: \n",
            "  |  |  |then Adelie\n",
            "  |  |  |else Chinstrap\n",
            "<---------------->\n",
            "Tree Depth:  6\n",
            "Train Accuracy: 1.00\n",
            "Test Accuracy: 0.99\n"
          ],
          "name": "stdout"
        }
      ]
    },
    {
      "cell_type": "markdown",
      "metadata": {
        "id": "kBOrrkRamvb8"
      },
      "source": [
        "##**Grid Search with Cross-Validation:**"
      ]
    },
    {
      "cell_type": "code",
      "metadata": {
        "id": "2R7uC2vGmmBX",
        "colab": {
          "base_uri": "https://localhost:8080/"
        },
        "outputId": "0f7e258b-0a8a-4029-ce16-b6adcd07d14d"
      },
      "source": [
        "from sklearn.model_selection import GridSearchCV\n",
        "from sklearn.metrics import confusion_matrix\n",
        "\n",
        "df = pd.read_csv(notes_home+\"penguins.csv\")\n",
        "# setting up grid search using 5-fold CV\n",
        "model = tree.DecisionTreeClassifier(random_state=1)\n",
        "param_grid = {\n",
        "    'max_depth': list(range(1,11)),\n",
        "    'criterion': ['entropy', 'gini']\n",
        "    }\n",
        "grid = GridSearchCV(model, param_grid, cv=5)\n",
        "\n",
        "# performing grid search \n",
        "null = grid.fit(X,y)\n",
        "\n",
        "# print out what we found\n",
        "print(\"Best parameters: {}\".format(grid.best_params_))\n",
        "\n",
        "# print out the best model\n",
        "print(\"Best tree:\")\n",
        "tree_print(grid.best_estimator_,X)\n",
        "\n",
        "# compute and print the accuracy\n",
        "predict_y = grid.best_estimator_.predict(X)\n",
        "acc = accuracy_score(y, predict_y)\n",
        "print(\"Accuracy: {:3.2f}\".format(acc))"
      ],
      "execution_count": null,
      "outputs": [
        {
          "output_type": "stream",
          "text": [
            "Best parameters: {'criterion': 'entropy', 'max_depth': 4}\n",
            "Best tree:\n",
            "if flipper_length_mm =< 206.5: \n",
            "  |then if bill_length_mm =< 43.35000038146973: \n",
            "  |  |then if bill_length_mm =< 42.35000038146973: \n",
            "  |  |  |then if bill_depth_mm =< 16.65000057220459: \n",
            "  |  |  |  |then Adelie\n",
            "  |  |  |  |else Adelie\n",
            "  |  |  |else if flipper_length_mm =< 189.5: \n",
            "  |  |  |  |then Chinstrap\n",
            "  |  |  |  |else Adelie\n",
            "  |  |else if body_mass_g =< 4125.0: \n",
            "  |  |  |then Chinstrap\n",
            "  |  |  |else if bill_length_mm =< 48.80000114440918: \n",
            "  |  |  |  |then Adelie\n",
            "  |  |  |  |else Chinstrap\n",
            "  |else if bill_depth_mm =< 17.649999618530273: \n",
            "  |  |then Gentoo\n",
            "  |  |else if bill_depth_mm =< 18.949999809265137: \n",
            "  |  |  |then Adelie\n",
            "  |  |  |else Chinstrap\n",
            "<---------->\n",
            "Tree Depth:  4\n",
            "Accuracy: 0.99\n"
          ],
          "name": "stdout"
        }
      ]
    },
    {
      "cell_type": "markdown",
      "metadata": {
        "id": "-XJId1UkxR3j"
      },
      "source": [
        "##**Conclusion:**"
      ]
    },
    {
      "cell_type": "markdown",
      "metadata": {
        "id": "Porq97MYsNhw"
      },
      "source": [
        "Since the medium one is within the ~10% at .96, that is the model I will be using for the comparison from the unregulated data tree.\n",
        "\n",
        "##**The unregulated set:** \n",
        "\n",
        "if flipper_length_mm =< 206.5:\n",
        "\n",
        "  |then if bill_length_mm =< 43.35000038146973: \n",
        "\n",
        "  |  |then if bill_length_mm =< 42.35000038146973:\n",
        "\n",
        "  |  |  |then if bill_depth_mm =< 16.65000057220459: \n",
        "\n",
        "  |  |  |  |then if bill_length_mm =< 39.5: \n",
        "\n",
        "  |  |  |  |  |then Adelie\n",
        "\n",
        "  |  |  |  |  |else Chinstrap\n",
        "\n",
        "  |  |  |  |else Adelie\n",
        "\n",
        "  |  |  |else if bill_depth_mm =< 17.449999809265137:\n",
        "\n",
        "  |  |  |  |then Chinstrap\n",
        "\n",
        "  |  |  |  |else Adelie\n",
        "\n",
        "  |  |else if body_mass_g =< 4125.0: \n",
        "\n",
        "  |  |  |then Chinstrap\n",
        "\n",
        "  |  |  |else if bill_length_mm =< 48.80000114440918: \n",
        "\n",
        "  |  |  |  |then if body_mass_g =< 4612.5: \n",
        "\n",
        "  |  |  |  |  |then if bill_depth_mm =< 19.300000190734863: \n",
        "\n",
        "  |  |  |  |  |  |then if flipper_length_mm =< 196.0: \n",
        "\n",
        "  |  |  |  |  |  |  |then Chinstrap\n",
        "\n",
        "  |  |  |  |  |  |  |else Adelie\n",
        "\n",
        "  |  |  |  |  |  |else Adelie\n",
        "\n",
        "  |  |  |  |  |else Gentoo\n",
        "\n",
        "  |  |  |  |else Chinstrap\n",
        "\n",
        "  |else if bill_depth_mm =< 17.649999618530273: \n",
        "\n",
        "  |  |then Gentoo\n",
        "\n",
        "  |  |else if bill_length_mm =< 46.54999923706055: \n",
        "\n",
        "|  |  |then Adelie\n",
        "\n",
        "  |  |  |else Chinstrap\n",
        "\n",
        "<------------------->\n",
        "\n",
        "Tree Depth:  7\n",
        "\n",
        "Train Accuracy: 1.0\n",
        "\n",
        "Test Accuracy: 1.0\n",
        "\n",
        "\n",
        "##**The Medium controlled set:**\n",
        "\n",
        "if flipper_length_mm =< 206.0: \n",
        "\n",
        "  |then if bill_length_mm =< 42.35000038146973: \n",
        "\n",
        "  |  |then if bill_depth_mm =< 16.699999809265137: \n",
        "\n",
        "  |  |  |then Adelie\n",
        "\n",
        "  |  |  |else Adelie\n",
        "\n",
        "  |  |else if bill_length_mm =< 46.04999923706055: \n",
        "\n",
        "  |  |  |then Chinstrap\n",
        "\n",
        "  |  |  |else Chinstrap\n",
        "\n",
        "  |else if bill_depth_mm =< 17.649999618530273: \n",
        "\n",
        "  |  |then Gentoo\n",
        "\n",
        "  |  |else if bill_depth_mm =< 18.75: \n",
        "\n",
        "  |  |  |then Adelie\n",
        "\n",
        "  |  |  |else Chinstrap\n",
        "\n",
        "<------->\n",
        "\n",
        "Tree Depth:  3\n",
        "\n",
        "Train Accuracy: 0.96\n",
        "\n",
        "Test Accuracy: 0.96\n",
        "\n",
        "##**Conclusion:**\n",
        "\n",
        "Even though the first tree goes down 7 layers and the medium tree goes down 3, they have almost the same training and testing accuracy. From just running all types of trees I noticed even when the tree goes down only one level the accuracy is already at 80% which is pretty high. Readability wise I prefer the second tree because it has less layers to sift through to determine what kind of penguin I am looking at, if I didn't know the species. The first model's readability although precise, is really messy with a lot of if then and else statements on each level, from that tree I would have a harder time with making a prediction. The second tree technically gives less insights or patterns because it uses less data to determine the penguin type than the first tree, only using flipper length, bill length and bill depth while the first tree also uses body mass to make a prediction.From the second tree I can interpret that if a penguin has a flipper length of less than or equal to 206mm with a bill less than or equal to 43 mm and bill depth less than or equal to 17mm, it is Adelie. If the bill is greater than 43 but less than 46mm and a bill less than 17mm then it is a Chinstrap penguin. If the bill depth is less than 18mm it is a Gentoo penguin. Finally if none of the conditions apply and the penguin has a beak that has a depth less than 18.75 it is either a Chinstrap or Adelie penguin."
      ]
    }
  ]
}