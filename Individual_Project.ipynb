{
  "nbformat": 4,
  "nbformat_minor": 0,
  "metadata": {
    "colab": {
      "name": "Individual Project",
      "provenance": [],
      "authorship_tag": "ABX9TyOftgw2Bbme8sMeVly7nS/V",
      "include_colab_link": true
    },
    "kernelspec": {
      "name": "python3",
      "display_name": "Python 3"
    }
  },
  "cells": [
    {
      "cell_type": "markdown",
      "metadata": {
        "id": "view-in-github",
        "colab_type": "text"
      },
      "source": [
        "<a href=\"https://colab.research.google.com/github/agudoshnik/CSC-310-Individual-Project/blob/main/Individual_Project.ipynb\" target=\"_parent\"><img src=\"https://colab.research.google.com/assets/colab-badge.svg\" alt=\"Open In Colab\"/></a>"
      ]
    },
    {
      "cell_type": "code",
      "metadata": {
        "colab": {
          "base_uri": "https://localhost:8080/"
        },
        "id": "F1ZXUWr2aL7A",
        "outputId": "39f7e2ba-630b-45fc-a7c5-c9d026664929"
      },
      "source": [
        "# preamble to be able to run notebooks in Jupyter and Colab\n",
        "try:\n",
        "    from google.colab import drive\n",
        "    import sys\n",
        "    \n",
        "    drive.mount('/content/drive')\n",
        "    notes_home = \"/content/drive/My Drive/csc310/\"\n",
        "    user_home = \"/content/drive/My Drive/\"\n",
        "    \n",
        "    sys.path.insert(1,notes_home) # let the notebook access the notes folder\n",
        "\n",
        "except ModuleNotFoundError:\n",
        "    notes_home = \"\" # running native Jupyter environment -- notes home is the same as the notebook\n",
        "    user_home = \"\"  # under Jupyter we assume the user directory is the same as the notebook"
      ],
      "execution_count": null,
      "outputs": [
        {
          "output_type": "stream",
          "text": [
            "Mounted at /content/drive\n"
          ],
          "name": "stdout"
        }
      ]
    },
    {
      "cell_type": "code",
      "metadata": {
        "id": "y85f7DRBaTPK"
      },
      "source": [
        "import pandas as pd\n",
        "from sklearn import tree\n",
        "from treeviz import tree_print"
      ],
      "execution_count": null,
      "outputs": []
    },
    {
      "cell_type": "markdown",
      "metadata": {
        "id": "OYApKW4YvTbC"
      },
      "source": [
        "##**Original Data:**"
      ]
    },
    {
      "cell_type": "code",
      "metadata": {
        "colab": {
          "base_uri": "https://localhost:8080/",
          "height": 453
        },
        "id": "v6y5i8MgaVjW",
        "outputId": "2b23f9d2-8bfb-49a2-f9e9-8ca4a77c1211"
      },
      "source": [
        "hawks = pd.read_csv(notes_home+\"Hawks.csv\")\n",
        "hawks"
      ],
      "execution_count": null,
      "outputs": [
        {
          "output_type": "execute_result",
          "data": {
            "text/html": [
              "<div>\n",
              "<style scoped>\n",
              "    .dataframe tbody tr th:only-of-type {\n",
              "        vertical-align: middle;\n",
              "    }\n",
              "\n",
              "    .dataframe tbody tr th {\n",
              "        vertical-align: top;\n",
              "    }\n",
              "\n",
              "    .dataframe thead th {\n",
              "        text-align: right;\n",
              "    }\n",
              "</style>\n",
              "<table border=\"1\" class=\"dataframe\">\n",
              "  <thead>\n",
              "    <tr style=\"text-align: right;\">\n",
              "      <th></th>\n",
              "      <th>Unnamed: 0</th>\n",
              "      <th>Month</th>\n",
              "      <th>Day</th>\n",
              "      <th>Year</th>\n",
              "      <th>CaptureTime</th>\n",
              "      <th>ReleaseTime</th>\n",
              "      <th>BandNumber</th>\n",
              "      <th>Species</th>\n",
              "      <th>Age</th>\n",
              "      <th>Sex</th>\n",
              "      <th>Wing</th>\n",
              "      <th>Weight</th>\n",
              "      <th>Culmen</th>\n",
              "      <th>Hallux</th>\n",
              "      <th>Tail</th>\n",
              "      <th>StandardTail</th>\n",
              "      <th>Tarsus</th>\n",
              "      <th>WingPitFat</th>\n",
              "      <th>KeelFat</th>\n",
              "      <th>Crop</th>\n",
              "    </tr>\n",
              "  </thead>\n",
              "  <tbody>\n",
              "    <tr>\n",
              "      <th>0</th>\n",
              "      <td>1</td>\n",
              "      <td>9</td>\n",
              "      <td>19</td>\n",
              "      <td>1992</td>\n",
              "      <td>13:30</td>\n",
              "      <td>NaN</td>\n",
              "      <td>877-76317</td>\n",
              "      <td>RT</td>\n",
              "      <td>I</td>\n",
              "      <td>NaN</td>\n",
              "      <td>385.0</td>\n",
              "      <td>920.0</td>\n",
              "      <td>25.7</td>\n",
              "      <td>30.1</td>\n",
              "      <td>219</td>\n",
              "      <td>NaN</td>\n",
              "      <td>NaN</td>\n",
              "      <td>NaN</td>\n",
              "      <td>NaN</td>\n",
              "      <td>NaN</td>\n",
              "    </tr>\n",
              "    <tr>\n",
              "      <th>1</th>\n",
              "      <td>2</td>\n",
              "      <td>9</td>\n",
              "      <td>22</td>\n",
              "      <td>1992</td>\n",
              "      <td>10:30</td>\n",
              "      <td></td>\n",
              "      <td>877-76318</td>\n",
              "      <td>RT</td>\n",
              "      <td>I</td>\n",
              "      <td>NaN</td>\n",
              "      <td>376.0</td>\n",
              "      <td>930.0</td>\n",
              "      <td>NaN</td>\n",
              "      <td>NaN</td>\n",
              "      <td>221</td>\n",
              "      <td>NaN</td>\n",
              "      <td>NaN</td>\n",
              "      <td>NaN</td>\n",
              "      <td>NaN</td>\n",
              "      <td>NaN</td>\n",
              "    </tr>\n",
              "    <tr>\n",
              "      <th>2</th>\n",
              "      <td>3</td>\n",
              "      <td>9</td>\n",
              "      <td>23</td>\n",
              "      <td>1992</td>\n",
              "      <td>12:45</td>\n",
              "      <td></td>\n",
              "      <td>877-76319</td>\n",
              "      <td>RT</td>\n",
              "      <td>I</td>\n",
              "      <td>NaN</td>\n",
              "      <td>381.0</td>\n",
              "      <td>990.0</td>\n",
              "      <td>26.7</td>\n",
              "      <td>31.3</td>\n",
              "      <td>235</td>\n",
              "      <td>NaN</td>\n",
              "      <td>NaN</td>\n",
              "      <td>NaN</td>\n",
              "      <td>NaN</td>\n",
              "      <td>NaN</td>\n",
              "    </tr>\n",
              "    <tr>\n",
              "      <th>3</th>\n",
              "      <td>4</td>\n",
              "      <td>9</td>\n",
              "      <td>23</td>\n",
              "      <td>1992</td>\n",
              "      <td>10:50</td>\n",
              "      <td></td>\n",
              "      <td>745-49508</td>\n",
              "      <td>CH</td>\n",
              "      <td>I</td>\n",
              "      <td>F</td>\n",
              "      <td>265.0</td>\n",
              "      <td>470.0</td>\n",
              "      <td>18.7</td>\n",
              "      <td>23.5</td>\n",
              "      <td>220</td>\n",
              "      <td>NaN</td>\n",
              "      <td>NaN</td>\n",
              "      <td>NaN</td>\n",
              "      <td>NaN</td>\n",
              "      <td>NaN</td>\n",
              "    </tr>\n",
              "    <tr>\n",
              "      <th>4</th>\n",
              "      <td>5</td>\n",
              "      <td>9</td>\n",
              "      <td>27</td>\n",
              "      <td>1992</td>\n",
              "      <td>11:15</td>\n",
              "      <td></td>\n",
              "      <td>1253-98801</td>\n",
              "      <td>SS</td>\n",
              "      <td>I</td>\n",
              "      <td>F</td>\n",
              "      <td>205.0</td>\n",
              "      <td>170.0</td>\n",
              "      <td>12.5</td>\n",
              "      <td>14.3</td>\n",
              "      <td>157</td>\n",
              "      <td>NaN</td>\n",
              "      <td>NaN</td>\n",
              "      <td>NaN</td>\n",
              "      <td>NaN</td>\n",
              "      <td>NaN</td>\n",
              "    </tr>\n",
              "    <tr>\n",
              "      <th>...</th>\n",
              "      <td>...</td>\n",
              "      <td>...</td>\n",
              "      <td>...</td>\n",
              "      <td>...</td>\n",
              "      <td>...</td>\n",
              "      <td>...</td>\n",
              "      <td>...</td>\n",
              "      <td>...</td>\n",
              "      <td>...</td>\n",
              "      <td>...</td>\n",
              "      <td>...</td>\n",
              "      <td>...</td>\n",
              "      <td>...</td>\n",
              "      <td>...</td>\n",
              "      <td>...</td>\n",
              "      <td>...</td>\n",
              "      <td>...</td>\n",
              "      <td>...</td>\n",
              "      <td>...</td>\n",
              "      <td>...</td>\n",
              "    </tr>\n",
              "    <tr>\n",
              "      <th>903</th>\n",
              "      <td>904</td>\n",
              "      <td>11</td>\n",
              "      <td>18</td>\n",
              "      <td>2003</td>\n",
              "      <td>14:44</td>\n",
              "      <td></td>\n",
              "      <td>1177-04777</td>\n",
              "      <td>RT</td>\n",
              "      <td>I</td>\n",
              "      <td>NaN</td>\n",
              "      <td>380.0</td>\n",
              "      <td>1525.0</td>\n",
              "      <td>26.0</td>\n",
              "      <td>27.6</td>\n",
              "      <td>224</td>\n",
              "      <td>227.0</td>\n",
              "      <td>NaN</td>\n",
              "      <td>NaN</td>\n",
              "      <td>3.0</td>\n",
              "      <td>0.0</td>\n",
              "    </tr>\n",
              "    <tr>\n",
              "      <th>904</th>\n",
              "      <td>905</td>\n",
              "      <td>11</td>\n",
              "      <td>19</td>\n",
              "      <td>2003</td>\n",
              "      <td>10:18</td>\n",
              "      <td></td>\n",
              "      <td>803-05985</td>\n",
              "      <td>SS</td>\n",
              "      <td>I</td>\n",
              "      <td>F</td>\n",
              "      <td>190.0</td>\n",
              "      <td>175.0</td>\n",
              "      <td>12.7</td>\n",
              "      <td>15.4</td>\n",
              "      <td>150</td>\n",
              "      <td>153.0</td>\n",
              "      <td>NaN</td>\n",
              "      <td>NaN</td>\n",
              "      <td>4.0</td>\n",
              "      <td>0.0</td>\n",
              "    </tr>\n",
              "    <tr>\n",
              "      <th>905</th>\n",
              "      <td>906</td>\n",
              "      <td>11</td>\n",
              "      <td>19</td>\n",
              "      <td>2003</td>\n",
              "      <td>12:02</td>\n",
              "      <td></td>\n",
              "      <td>1807-53145</td>\n",
              "      <td>RT</td>\n",
              "      <td>I</td>\n",
              "      <td>NaN</td>\n",
              "      <td>360.0</td>\n",
              "      <td>790.0</td>\n",
              "      <td>21.9</td>\n",
              "      <td>27.6</td>\n",
              "      <td>211</td>\n",
              "      <td>215.0</td>\n",
              "      <td>NaN</td>\n",
              "      <td>NaN</td>\n",
              "      <td>2.0</td>\n",
              "      <td>0.0</td>\n",
              "    </tr>\n",
              "    <tr>\n",
              "      <th>906</th>\n",
              "      <td>907</td>\n",
              "      <td>11</td>\n",
              "      <td>20</td>\n",
              "      <td>2003</td>\n",
              "      <td>9:56</td>\n",
              "      <td></td>\n",
              "      <td>1177-04778</td>\n",
              "      <td>RT</td>\n",
              "      <td>I</td>\n",
              "      <td>NaN</td>\n",
              "      <td>369.0</td>\n",
              "      <td>860.0</td>\n",
              "      <td>25.2</td>\n",
              "      <td>28.0</td>\n",
              "      <td>207</td>\n",
              "      <td>210.0</td>\n",
              "      <td>NaN</td>\n",
              "      <td>NaN</td>\n",
              "      <td>2.0</td>\n",
              "      <td>0.0</td>\n",
              "    </tr>\n",
              "    <tr>\n",
              "      <th>907</th>\n",
              "      <td>908</td>\n",
              "      <td>11</td>\n",
              "      <td>20</td>\n",
              "      <td>2003</td>\n",
              "      <td>13:30</td>\n",
              "      <td></td>\n",
              "      <td>1207-53145</td>\n",
              "      <td>RT</td>\n",
              "      <td>A</td>\n",
              "      <td>NaN</td>\n",
              "      <td>199.0</td>\n",
              "      <td>1290.0</td>\n",
              "      <td>28.7</td>\n",
              "      <td>32.1</td>\n",
              "      <td>222</td>\n",
              "      <td>226.0</td>\n",
              "      <td>NaN</td>\n",
              "      <td>NaN</td>\n",
              "      <td>1.0</td>\n",
              "      <td>0.0</td>\n",
              "    </tr>\n",
              "  </tbody>\n",
              "</table>\n",
              "<p>908 rows × 20 columns</p>\n",
              "</div>"
            ],
            "text/plain": [
              "     Unnamed: 0  Month  Day  Year  ... Tarsus WingPitFat KeelFat Crop\n",
              "0             1      9   19  1992  ...    NaN        NaN     NaN  NaN\n",
              "1             2      9   22  1992  ...    NaN        NaN     NaN  NaN\n",
              "2             3      9   23  1992  ...    NaN        NaN     NaN  NaN\n",
              "3             4      9   23  1992  ...    NaN        NaN     NaN  NaN\n",
              "4             5      9   27  1992  ...    NaN        NaN     NaN  NaN\n",
              "..          ...    ...  ...   ...  ...    ...        ...     ...  ...\n",
              "903         904     11   18  2003  ...    NaN        NaN     3.0  0.0\n",
              "904         905     11   19  2003  ...    NaN        NaN     4.0  0.0\n",
              "905         906     11   19  2003  ...    NaN        NaN     2.0  0.0\n",
              "906         907     11   20  2003  ...    NaN        NaN     2.0  0.0\n",
              "907         908     11   20  2003  ...    NaN        NaN     1.0  0.0\n",
              "\n",
              "[908 rows x 20 columns]"
            ]
          },
          "metadata": {
            "tags": []
          },
          "execution_count": 3
        }
      ]
    },
    {
      "cell_type": "code",
      "metadata": {
        "colab": {
          "base_uri": "https://localhost:8080/",
          "height": 331
        },
        "id": "wQXUX_9TciQm",
        "outputId": "a5324f6e-39a4-4b83-82a4-9fc8ddd6e660"
      },
      "source": [
        "hawks.describe()"
      ],
      "execution_count": null,
      "outputs": [
        {
          "output_type": "execute_result",
          "data": {
            "text/html": [
              "<div>\n",
              "<style scoped>\n",
              "    .dataframe tbody tr th:only-of-type {\n",
              "        vertical-align: middle;\n",
              "    }\n",
              "\n",
              "    .dataframe tbody tr th {\n",
              "        vertical-align: top;\n",
              "    }\n",
              "\n",
              "    .dataframe thead th {\n",
              "        text-align: right;\n",
              "    }\n",
              "</style>\n",
              "<table border=\"1\" class=\"dataframe\">\n",
              "  <thead>\n",
              "    <tr style=\"text-align: right;\">\n",
              "      <th></th>\n",
              "      <th>Unnamed: 0</th>\n",
              "      <th>Month</th>\n",
              "      <th>Day</th>\n",
              "      <th>Year</th>\n",
              "      <th>Wing</th>\n",
              "      <th>Weight</th>\n",
              "      <th>Culmen</th>\n",
              "      <th>Hallux</th>\n",
              "      <th>Tail</th>\n",
              "      <th>StandardTail</th>\n",
              "      <th>Tarsus</th>\n",
              "      <th>WingPitFat</th>\n",
              "      <th>KeelFat</th>\n",
              "      <th>Crop</th>\n",
              "    </tr>\n",
              "  </thead>\n",
              "  <tbody>\n",
              "    <tr>\n",
              "      <th>count</th>\n",
              "      <td>908.00000</td>\n",
              "      <td>908.000000</td>\n",
              "      <td>908.000000</td>\n",
              "      <td>908.000000</td>\n",
              "      <td>907.000000</td>\n",
              "      <td>898.000000</td>\n",
              "      <td>901.000000</td>\n",
              "      <td>902.000000</td>\n",
              "      <td>908.000000</td>\n",
              "      <td>571.000000</td>\n",
              "      <td>75.000000</td>\n",
              "      <td>77.000000</td>\n",
              "      <td>567.000000</td>\n",
              "      <td>565.000000</td>\n",
              "    </tr>\n",
              "    <tr>\n",
              "      <th>mean</th>\n",
              "      <td>454.50000</td>\n",
              "      <td>9.842511</td>\n",
              "      <td>15.740088</td>\n",
              "      <td>1998.253304</td>\n",
              "      <td>315.637486</td>\n",
              "      <td>772.080178</td>\n",
              "      <td>21.801498</td>\n",
              "      <td>26.410865</td>\n",
              "      <td>198.831498</td>\n",
              "      <td>199.182137</td>\n",
              "      <td>71.950667</td>\n",
              "      <td>0.792208</td>\n",
              "      <td>2.184303</td>\n",
              "      <td>0.234540</td>\n",
              "    </tr>\n",
              "    <tr>\n",
              "      <th>std</th>\n",
              "      <td>262.26132</td>\n",
              "      <td>0.685717</td>\n",
              "      <td>8.413164</td>\n",
              "      <td>3.454180</td>\n",
              "      <td>95.277591</td>\n",
              "      <td>462.311760</td>\n",
              "      <td>7.284175</td>\n",
              "      <td>17.734704</td>\n",
              "      <td>36.824403</td>\n",
              "      <td>38.197755</td>\n",
              "      <td>17.263204</td>\n",
              "      <td>0.878660</td>\n",
              "      <td>1.044073</td>\n",
              "      <td>0.461597</td>\n",
              "    </tr>\n",
              "    <tr>\n",
              "      <th>min</th>\n",
              "      <td>1.00000</td>\n",
              "      <td>8.000000</td>\n",
              "      <td>1.000000</td>\n",
              "      <td>1992.000000</td>\n",
              "      <td>37.200000</td>\n",
              "      <td>56.000000</td>\n",
              "      <td>8.600000</td>\n",
              "      <td>9.500000</td>\n",
              "      <td>119.000000</td>\n",
              "      <td>115.000000</td>\n",
              "      <td>24.700000</td>\n",
              "      <td>0.000000</td>\n",
              "      <td>0.000000</td>\n",
              "      <td>0.000000</td>\n",
              "    </tr>\n",
              "    <tr>\n",
              "      <th>25%</th>\n",
              "      <td>227.75000</td>\n",
              "      <td>9.000000</td>\n",
              "      <td>9.000000</td>\n",
              "      <td>1995.000000</td>\n",
              "      <td>202.000000</td>\n",
              "      <td>185.000000</td>\n",
              "      <td>12.800000</td>\n",
              "      <td>15.100000</td>\n",
              "      <td>160.000000</td>\n",
              "      <td>162.000000</td>\n",
              "      <td>55.600000</td>\n",
              "      <td>0.000000</td>\n",
              "      <td>2.000000</td>\n",
              "      <td>0.000000</td>\n",
              "    </tr>\n",
              "    <tr>\n",
              "      <th>50%</th>\n",
              "      <td>454.50000</td>\n",
              "      <td>10.000000</td>\n",
              "      <td>16.000000</td>\n",
              "      <td>1999.000000</td>\n",
              "      <td>370.000000</td>\n",
              "      <td>970.000000</td>\n",
              "      <td>25.500000</td>\n",
              "      <td>29.400000</td>\n",
              "      <td>214.000000</td>\n",
              "      <td>215.000000</td>\n",
              "      <td>79.300000</td>\n",
              "      <td>1.000000</td>\n",
              "      <td>2.000000</td>\n",
              "      <td>0.000000</td>\n",
              "    </tr>\n",
              "    <tr>\n",
              "      <th>75%</th>\n",
              "      <td>681.25000</td>\n",
              "      <td>10.000000</td>\n",
              "      <td>23.000000</td>\n",
              "      <td>2001.000000</td>\n",
              "      <td>390.000000</td>\n",
              "      <td>1120.000000</td>\n",
              "      <td>27.300000</td>\n",
              "      <td>31.400000</td>\n",
              "      <td>225.000000</td>\n",
              "      <td>226.000000</td>\n",
              "      <td>87.000000</td>\n",
              "      <td>1.000000</td>\n",
              "      <td>3.000000</td>\n",
              "      <td>0.250000</td>\n",
              "    </tr>\n",
              "    <tr>\n",
              "      <th>max</th>\n",
              "      <td>908.00000</td>\n",
              "      <td>11.000000</td>\n",
              "      <td>31.000000</td>\n",
              "      <td>2003.000000</td>\n",
              "      <td>480.000000</td>\n",
              "      <td>2030.000000</td>\n",
              "      <td>39.200000</td>\n",
              "      <td>341.400000</td>\n",
              "      <td>288.000000</td>\n",
              "      <td>335.000000</td>\n",
              "      <td>94.000000</td>\n",
              "      <td>3.000000</td>\n",
              "      <td>4.000000</td>\n",
              "      <td>5.000000</td>\n",
              "    </tr>\n",
              "  </tbody>\n",
              "</table>\n",
              "</div>"
            ],
            "text/plain": [
              "       Unnamed: 0       Month         Day  ...  WingPitFat     KeelFat        Crop\n",
              "count   908.00000  908.000000  908.000000  ...   77.000000  567.000000  565.000000\n",
              "mean    454.50000    9.842511   15.740088  ...    0.792208    2.184303    0.234540\n",
              "std     262.26132    0.685717    8.413164  ...    0.878660    1.044073    0.461597\n",
              "min       1.00000    8.000000    1.000000  ...    0.000000    0.000000    0.000000\n",
              "25%     227.75000    9.000000    9.000000  ...    0.000000    2.000000    0.000000\n",
              "50%     454.50000   10.000000   16.000000  ...    1.000000    2.000000    0.000000\n",
              "75%     681.25000   10.000000   23.000000  ...    1.000000    3.000000    0.250000\n",
              "max     908.00000   11.000000   31.000000  ...    3.000000    4.000000    5.000000\n",
              "\n",
              "[8 rows x 14 columns]"
            ]
          },
          "metadata": {
            "tags": []
          },
          "execution_count": 4
        }
      ]
    },
    {
      "cell_type": "code",
      "metadata": {
        "colab": {
          "base_uri": "https://localhost:8080/"
        },
        "id": "nzo8kuDFdeP5",
        "outputId": "f647db38-1170-4857-ade9-f3bd4630c2cf"
      },
      "source": [
        "hawks.count()"
      ],
      "execution_count": null,
      "outputs": [
        {
          "output_type": "execute_result",
          "data": {
            "text/plain": [
              "Unnamed: 0      908\n",
              "Month           908\n",
              "Day             908\n",
              "Year            908\n",
              "CaptureTime     908\n",
              "ReleaseTime     907\n",
              "BandNumber      908\n",
              "Species         908\n",
              "Age             908\n",
              "Sex             332\n",
              "Wing            907\n",
              "Weight          898\n",
              "Culmen          901\n",
              "Hallux          902\n",
              "Tail            908\n",
              "StandardTail    571\n",
              "Tarsus           75\n",
              "WingPitFat       77\n",
              "KeelFat         567\n",
              "Crop            565\n",
              "dtype: int64"
            ]
          },
          "metadata": {
            "tags": []
          },
          "execution_count": 5
        }
      ]
    },
    {
      "cell_type": "markdown",
      "metadata": {
        "id": "TAK2y4iP4GcJ"
      },
      "source": [
        "##**Project Proposal:**"
      ]
    },
    {
      "cell_type": "markdown",
      "metadata": {
        "id": "0ROuH919CSop"
      },
      "source": [
        "The dataset I will be using is about a bunch of hawks that were caught, tagged, measured and released between 1992 and 2003.  \n",
        "\n",
        "Rows: 908  \n",
        "\n",
        "Columns: 20 \n",
        "\n",
        "Target Label: No \n",
        "\n",
        "Numerical Columns: 14  \n",
        "\n",
        "Categorical: 6 \n",
        "\n",
        "For this project and to make it about machine learning I will cut the data set down to Species, Culmen, Hallux, Wing, Weight, and Tail. I want to do this data cleaning since some columns such as Tarsus since it only has 75 entries out of 908 maximum entries. This eliminates the really bad rows of data and give the project the goal about **if a machine can figure out what bird is which from the measurements given**."
      ]
    },
    {
      "cell_type": "code",
      "metadata": {
        "id": "OTOg3BKOkKFm"
      },
      "source": [
        "df = hawks[['Species', 'Wing', 'Weight','Culmen','Hallux','Tail']]"
      ],
      "execution_count": null,
      "outputs": []
    },
    {
      "cell_type": "code",
      "metadata": {
        "id": "6grdpf4-kp4-"
      },
      "source": [
        "df = df.replace('RT','Red-Tailed')\n",
        "df = df.replace('CH','Coopers Hawk')\n",
        "df = df.replace('SS','Sharp-Shinned')\n",
        "df = df.dropna()"
      ],
      "execution_count": null,
      "outputs": []
    },
    {
      "cell_type": "markdown",
      "metadata": {
        "id": "Y7Vv_1gOvnEx"
      },
      "source": [
        "##**Modified Data:**"
      ]
    },
    {
      "cell_type": "code",
      "metadata": {
        "colab": {
          "base_uri": "https://localhost:8080/",
          "height": 415
        },
        "id": "qxcB2ysRvkhf",
        "outputId": "323aeb0d-6bff-4227-814e-e5e4cef9b51d"
      },
      "source": [
        "df"
      ],
      "execution_count": null,
      "outputs": [
        {
          "output_type": "execute_result",
          "data": {
            "text/html": [
              "<div>\n",
              "<style scoped>\n",
              "    .dataframe tbody tr th:only-of-type {\n",
              "        vertical-align: middle;\n",
              "    }\n",
              "\n",
              "    .dataframe tbody tr th {\n",
              "        vertical-align: top;\n",
              "    }\n",
              "\n",
              "    .dataframe thead th {\n",
              "        text-align: right;\n",
              "    }\n",
              "</style>\n",
              "<table border=\"1\" class=\"dataframe\">\n",
              "  <thead>\n",
              "    <tr style=\"text-align: right;\">\n",
              "      <th></th>\n",
              "      <th>Species</th>\n",
              "      <th>Wing</th>\n",
              "      <th>Weight</th>\n",
              "      <th>Culmen</th>\n",
              "      <th>Hallux</th>\n",
              "      <th>Tail</th>\n",
              "    </tr>\n",
              "  </thead>\n",
              "  <tbody>\n",
              "    <tr>\n",
              "      <th>0</th>\n",
              "      <td>Red-Tailed</td>\n",
              "      <td>385.0</td>\n",
              "      <td>920.0</td>\n",
              "      <td>25.7</td>\n",
              "      <td>30.1</td>\n",
              "      <td>219</td>\n",
              "    </tr>\n",
              "    <tr>\n",
              "      <th>2</th>\n",
              "      <td>Red-Tailed</td>\n",
              "      <td>381.0</td>\n",
              "      <td>990.0</td>\n",
              "      <td>26.7</td>\n",
              "      <td>31.3</td>\n",
              "      <td>235</td>\n",
              "    </tr>\n",
              "    <tr>\n",
              "      <th>3</th>\n",
              "      <td>Coopers Hawk</td>\n",
              "      <td>265.0</td>\n",
              "      <td>470.0</td>\n",
              "      <td>18.7</td>\n",
              "      <td>23.5</td>\n",
              "      <td>220</td>\n",
              "    </tr>\n",
              "    <tr>\n",
              "      <th>4</th>\n",
              "      <td>Sharp-Shinned</td>\n",
              "      <td>205.0</td>\n",
              "      <td>170.0</td>\n",
              "      <td>12.5</td>\n",
              "      <td>14.3</td>\n",
              "      <td>157</td>\n",
              "    </tr>\n",
              "    <tr>\n",
              "      <th>5</th>\n",
              "      <td>Red-Tailed</td>\n",
              "      <td>412.0</td>\n",
              "      <td>1090.0</td>\n",
              "      <td>28.5</td>\n",
              "      <td>32.2</td>\n",
              "      <td>230</td>\n",
              "    </tr>\n",
              "    <tr>\n",
              "      <th>...</th>\n",
              "      <td>...</td>\n",
              "      <td>...</td>\n",
              "      <td>...</td>\n",
              "      <td>...</td>\n",
              "      <td>...</td>\n",
              "      <td>...</td>\n",
              "    </tr>\n",
              "    <tr>\n",
              "      <th>903</th>\n",
              "      <td>Red-Tailed</td>\n",
              "      <td>380.0</td>\n",
              "      <td>1525.0</td>\n",
              "      <td>26.0</td>\n",
              "      <td>27.6</td>\n",
              "      <td>224</td>\n",
              "    </tr>\n",
              "    <tr>\n",
              "      <th>904</th>\n",
              "      <td>Sharp-Shinned</td>\n",
              "      <td>190.0</td>\n",
              "      <td>175.0</td>\n",
              "      <td>12.7</td>\n",
              "      <td>15.4</td>\n",
              "      <td>150</td>\n",
              "    </tr>\n",
              "    <tr>\n",
              "      <th>905</th>\n",
              "      <td>Red-Tailed</td>\n",
              "      <td>360.0</td>\n",
              "      <td>790.0</td>\n",
              "      <td>21.9</td>\n",
              "      <td>27.6</td>\n",
              "      <td>211</td>\n",
              "    </tr>\n",
              "    <tr>\n",
              "      <th>906</th>\n",
              "      <td>Red-Tailed</td>\n",
              "      <td>369.0</td>\n",
              "      <td>860.0</td>\n",
              "      <td>25.2</td>\n",
              "      <td>28.0</td>\n",
              "      <td>207</td>\n",
              "    </tr>\n",
              "    <tr>\n",
              "      <th>907</th>\n",
              "      <td>Red-Tailed</td>\n",
              "      <td>199.0</td>\n",
              "      <td>1290.0</td>\n",
              "      <td>28.7</td>\n",
              "      <td>32.1</td>\n",
              "      <td>222</td>\n",
              "    </tr>\n",
              "  </tbody>\n",
              "</table>\n",
              "<p>891 rows × 6 columns</p>\n",
              "</div>"
            ],
            "text/plain": [
              "           Species   Wing  Weight  Culmen  Hallux  Tail\n",
              "0       Red-Tailed  385.0   920.0    25.7    30.1   219\n",
              "2       Red-Tailed  381.0   990.0    26.7    31.3   235\n",
              "3     Coopers Hawk  265.0   470.0    18.7    23.5   220\n",
              "4    Sharp-Shinned  205.0   170.0    12.5    14.3   157\n",
              "5       Red-Tailed  412.0  1090.0    28.5    32.2   230\n",
              "..             ...    ...     ...     ...     ...   ...\n",
              "903     Red-Tailed  380.0  1525.0    26.0    27.6   224\n",
              "904  Sharp-Shinned  190.0   175.0    12.7    15.4   150\n",
              "905     Red-Tailed  360.0   790.0    21.9    27.6   211\n",
              "906     Red-Tailed  369.0   860.0    25.2    28.0   207\n",
              "907     Red-Tailed  199.0  1290.0    28.7    32.1   222\n",
              "\n",
              "[891 rows x 6 columns]"
            ]
          },
          "metadata": {
            "tags": []
          },
          "execution_count": 9
        }
      ]
    },
    {
      "cell_type": "markdown",
      "metadata": {
        "id": "4Jr13b0XCc3o"
      },
      "source": [
        "Dataset after Adjustments: \n",
        "\n",
        "Rows: 891 \n",
        "\n",
        "Columns: 6 \n",
        "\n",
        "Target Label: Species \n",
        "\n",
        "Numerical Columns: 5 \n",
        "\n",
        "Categorical Columns: 1 \n",
        "\n",
        "Since there were a few NA’s in the remaining data I dropped the entire row to make the project easier.  \n",
        "\n",
        "##**Question:**\n",
        "Now that the dataset is cleaned up, I want to answer the question, from the given measurements, can the type of hawk between Red-Tailed, Coopers, or Sharp-Shinned be determined, is there a pattern to determine which hawk is which. \n"
      ]
    },
    {
      "cell_type": "markdown",
      "metadata": {
        "id": "5KQf_CS8wI26"
      },
      "source": [
        "##**Data Summary:**"
      ]
    },
    {
      "cell_type": "code",
      "metadata": {
        "colab": {
          "base_uri": "https://localhost:8080/"
        },
        "id": "G2nOd_remnZ-",
        "outputId": "241cb176-bf2a-4ed4-fa04-cc2c1f3ccbd5"
      },
      "source": [
        "df.count()"
      ],
      "execution_count": null,
      "outputs": [
        {
          "output_type": "execute_result",
          "data": {
            "text/plain": [
              "Species    891\n",
              "Wing       891\n",
              "Weight     891\n",
              "Culmen     891\n",
              "Hallux     891\n",
              "Tail       891\n",
              "dtype: int64"
            ]
          },
          "metadata": {
            "tags": []
          },
          "execution_count": 13
        }
      ]
    },
    {
      "cell_type": "code",
      "metadata": {
        "colab": {
          "base_uri": "https://localhost:8080/",
          "height": 294
        },
        "id": "baD1tHzQmpuK",
        "outputId": "4280699d-19b3-43d0-c096-2596e0ad8d67"
      },
      "source": [
        "df.describe()"
      ],
      "execution_count": null,
      "outputs": [
        {
          "output_type": "execute_result",
          "data": {
            "text/html": [
              "<div>\n",
              "<style scoped>\n",
              "    .dataframe tbody tr th:only-of-type {\n",
              "        vertical-align: middle;\n",
              "    }\n",
              "\n",
              "    .dataframe tbody tr th {\n",
              "        vertical-align: top;\n",
              "    }\n",
              "\n",
              "    .dataframe thead th {\n",
              "        text-align: right;\n",
              "    }\n",
              "</style>\n",
              "<table border=\"1\" class=\"dataframe\">\n",
              "  <thead>\n",
              "    <tr style=\"text-align: right;\">\n",
              "      <th></th>\n",
              "      <th>Wing</th>\n",
              "      <th>Weight</th>\n",
              "      <th>Culmen</th>\n",
              "      <th>Hallux</th>\n",
              "      <th>Tail</th>\n",
              "    </tr>\n",
              "  </thead>\n",
              "  <tbody>\n",
              "    <tr>\n",
              "      <th>count</th>\n",
              "      <td>891.000000</td>\n",
              "      <td>891.000000</td>\n",
              "      <td>891.000000</td>\n",
              "      <td>891.000000</td>\n",
              "      <td>891.000000</td>\n",
              "    </tr>\n",
              "    <tr>\n",
              "      <th>mean</th>\n",
              "      <td>315.947475</td>\n",
              "      <td>771.615039</td>\n",
              "      <td>21.808923</td>\n",
              "      <td>26.413244</td>\n",
              "      <td>198.893378</td>\n",
              "    </tr>\n",
              "    <tr>\n",
              "      <th>std</th>\n",
              "      <td>95.316699</td>\n",
              "      <td>462.936901</td>\n",
              "      <td>7.293190</td>\n",
              "      <td>17.825541</td>\n",
              "      <td>36.826634</td>\n",
              "    </tr>\n",
              "    <tr>\n",
              "      <th>min</th>\n",
              "      <td>37.200000</td>\n",
              "      <td>56.000000</td>\n",
              "      <td>8.600000</td>\n",
              "      <td>9.500000</td>\n",
              "      <td>119.000000</td>\n",
              "    </tr>\n",
              "    <tr>\n",
              "      <th>25%</th>\n",
              "      <td>202.000000</td>\n",
              "      <td>185.000000</td>\n",
              "      <td>12.800000</td>\n",
              "      <td>15.100000</td>\n",
              "      <td>160.000000</td>\n",
              "    </tr>\n",
              "    <tr>\n",
              "      <th>50%</th>\n",
              "      <td>370.000000</td>\n",
              "      <td>970.000000</td>\n",
              "      <td>25.500000</td>\n",
              "      <td>29.400000</td>\n",
              "      <td>214.000000</td>\n",
              "    </tr>\n",
              "    <tr>\n",
              "      <th>75%</th>\n",
              "      <td>390.000000</td>\n",
              "      <td>1120.000000</td>\n",
              "      <td>27.350000</td>\n",
              "      <td>31.400000</td>\n",
              "      <td>225.000000</td>\n",
              "    </tr>\n",
              "    <tr>\n",
              "      <th>max</th>\n",
              "      <td>480.000000</td>\n",
              "      <td>2030.000000</td>\n",
              "      <td>39.200000</td>\n",
              "      <td>341.400000</td>\n",
              "      <td>288.000000</td>\n",
              "    </tr>\n",
              "  </tbody>\n",
              "</table>\n",
              "</div>"
            ],
            "text/plain": [
              "             Wing       Weight      Culmen      Hallux        Tail\n",
              "count  891.000000   891.000000  891.000000  891.000000  891.000000\n",
              "mean   315.947475   771.615039   21.808923   26.413244  198.893378\n",
              "std     95.316699   462.936901    7.293190   17.825541   36.826634\n",
              "min     37.200000    56.000000    8.600000    9.500000  119.000000\n",
              "25%    202.000000   185.000000   12.800000   15.100000  160.000000\n",
              "50%    370.000000   970.000000   25.500000   29.400000  214.000000\n",
              "75%    390.000000  1120.000000   27.350000   31.400000  225.000000\n",
              "max    480.000000  2030.000000   39.200000  341.400000  288.000000"
            ]
          },
          "metadata": {
            "tags": []
          },
          "execution_count": 14
        }
      ]
    },
    {
      "cell_type": "code",
      "metadata": {
        "colab": {
          "base_uri": "https://localhost:8080/"
        },
        "id": "DBCIk6ASnWMK",
        "outputId": "6cbd3e5e-6442-4c6d-acd9-5e448e132c5e"
      },
      "source": [
        "df.Species.value_counts()"
      ],
      "execution_count": null,
      "outputs": [
        {
          "output_type": "execute_result",
          "data": {
            "text/plain": [
              "Red-Tailed       567\n",
              "Sharp-Shinned    255\n",
              "Coopers Hawk      69\n",
              "Name: Species, dtype: int64"
            ]
          },
          "metadata": {
            "tags": []
          },
          "execution_count": 15
        }
      ]
    },
    {
      "cell_type": "markdown",
      "metadata": {
        "id": "KaIeu_cWv0Hl"
      },
      "source": [
        "##**Visuals of data:**"
      ]
    },
    {
      "cell_type": "code",
      "metadata": {
        "colab": {
          "base_uri": "https://localhost:8080/",
          "height": 403
        },
        "id": "mSZs92Uin2wq",
        "outputId": "ae16a58b-436f-445d-ef18-fc779c5859a0"
      },
      "source": [
        "df.hist()"
      ],
      "execution_count": null,
      "outputs": [
        {
          "output_type": "execute_result",
          "data": {
            "text/plain": [
              "array([[<matplotlib.axes._subplots.AxesSubplot object at 0x7f41203a5438>,\n",
              "        <matplotlib.axes._subplots.AxesSubplot object at 0x7f41203d46d8>],\n",
              "       [<matplotlib.axes._subplots.AxesSubplot object at 0x7f4120382940>,\n",
              "        <matplotlib.axes._subplots.AxesSubplot object at 0x7f4120333ba8>],\n",
              "       [<matplotlib.axes._subplots.AxesSubplot object at 0x7f41202e3e10>,\n",
              "        <matplotlib.axes._subplots.AxesSubplot object at 0x7f41202a30b8>]],\n",
              "      dtype=object)"
            ]
          },
          "metadata": {
            "tags": []
          },
          "execution_count": 16
        },
        {
          "output_type": "display_data",
          "data": {
            "image/png": "[encoded data removed]",
            "text/plain": [
              "<Figure size 432x288 with 6 Axes>"
            ]
          },
          "metadata": {
            "tags": [],
            "needs_background": "light"
          }
        }
      ]
    },
    {
      "cell_type": "code",
      "metadata": {
        "colab": {
          "base_uri": "https://localhost:8080/",
          "height": 291
        },
        "id": "BMFg654gn67T",
        "outputId": "e65f9de1-1ae6-4ee4-9af4-d05ea0c59709"
      },
      "source": [
        "df.plot.bar()"
      ],
      "execution_count": null,
      "outputs": [
        {
          "output_type": "execute_result",
          "data": {
            "text/plain": [
              "<matplotlib.axes._subplots.AxesSubplot at 0x7f412028fc50>"
            ]
          },
          "metadata": {
            "tags": []
          },
          "execution_count": 17
        },
        {
          "output_type": "display_data",
          "data": {
            "image/png": "[encoded data removed]",
            "text/plain": [
              "<Figure size 432x288 with 1 Axes>"
            ]
          },
          "metadata": {
            "tags": [],
            "needs_background": "light"
          }
        }
      ]
    },
    {
      "cell_type": "markdown",
      "metadata": {
        "id": "zyAfGSYFv5jM"
      },
      "source": [
        "##**Decision Trees with 5 Cross Folds:**"
      ]
    },
    {
      "cell_type": "markdown",
      "metadata": {
        "id": "ivmVVcnpxKN2"
      },
      "source": [
        "Data Set Up:"
      ]
    },
    {
      "cell_type": "code",
      "metadata": {
        "id": "diR2Aj_uwdxD"
      },
      "source": [
        "from sklearn import tree\n",
        "from sklearn.metrics import accuracy_score\n",
        "from sklearn.model_selection import train_test_split\n",
        "from sklearn.model_selection import cross_val_score"
      ],
      "execution_count": null,
      "outputs": []
    },
    {
      "cell_type": "code",
      "metadata": {
        "id": "5NuET5RPwgDP"
      },
      "source": [
        "# set up our sklearn data shape for the hawks data\n",
        "X  = df.drop(['Species'],axis=1)\n",
        "y = df['Species']\n",
        "\n",
        "# split the data - 50% training 50% testing\n",
        "datasets = train_test_split(X, y, train_size=0.3, test_size=0.2, random_state=2)\n",
        "X_train, X_test, y_train, y_test = datasets\n"
      ],
      "execution_count": null,
      "outputs": []
    },
    {
      "cell_type": "markdown",
      "metadata": {
        "id": "LeEPXe0FwNAa"
      },
      "source": [
        "##**Low-Complexity:**"
      ]
    },
    {
      "cell_type": "code",
      "metadata": {
        "colab": {
          "base_uri": "https://localhost:8080/"
        },
        "id": "QZ71nf-HxBbB",
        "outputId": "264685b4-b080-4690-bb41-04c4bb0e7250"
      },
      "source": [
        "# set up the tree model object - limit the complexity to put us somewhere in the middle of the graph.\n",
        "model = tree.DecisionTreeClassifier(criterion='entropy', max_depth=1)\n",
        "\n",
        "# fit the model on the training set of data\n",
        "model.fit(X_train, y_train)\n",
        "tree_print(model,X)\n",
        "\n",
        "# Train results: evaluate the model on the testing set of data\n",
        "y_train_model = model.predict(X_train)\n",
        "print(\"Train Accuracy: {:3.2f}\".format(accuracy_score(y_train, y_train_model)))\n",
        "\n",
        "# Test results: evaluate the model on the testing set of data\n",
        "y_test_model = model.predict(X_test)\n",
        "\n",
        "# do the 5-fold cross validation\n",
        "scores = cross_val_score(model, X, y, cv=5)\n",
        "print(\"Fold Accuracies: {}\".format(scores))\n",
        "print(\"Accuracy: {:3.2f}\".format(scores.mean()))"
      ],
      "execution_count": null,
      "outputs": [
        {
          "output_type": "stream",
          "text": [
            "if Weight =< 700.0: \n",
            "  |then Sharp-Shinned\n",
            "  |else Red-Tailed\n",
            "<->\n",
            "Tree Depth:  1\n",
            "Train Accuracy: 0.91\n",
            "Fold Accuracies: [0.91061453 0.90449438 0.92134831 0.92134831 0.92134831]\n",
            "Accuracy: 0.92\n"
          ],
          "name": "stdout"
        }
      ]
    },
    {
      "cell_type": "markdown",
      "metadata": {
        "id": "beAvz4btxeVN"
      },
      "source": [
        "##**Medium-Complexity:**"
      ]
    },
    {
      "cell_type": "code",
      "metadata": {
        "colab": {
          "base_uri": "https://localhost:8080/"
        },
        "id": "QMfvSVjWxcr4",
        "outputId": "36d0035b-d02e-4ca9-fe56-eb7ebe73e0ed"
      },
      "source": [
        "# set up the tree model object - limit the complexity to put us somewhere in the middle of the graph.\n",
        "model = tree.DecisionTreeClassifier(criterion='entropy', max_depth=3)\n",
        "\n",
        "# fit the model on the training set of data\n",
        "model.fit(X_train, y_train)\n",
        "tree_print(model,X)\n",
        "\n",
        "# Train results: evaluate the model on the testing set of data\n",
        "y_train_model = model.predict(X_train)\n",
        "print(\"Train Accuracy: {:3.2f}\".format(accuracy_score(y_train, y_train_model)))\n",
        "\n",
        "# Test results: evaluate the model on the testing set of data\n",
        "y_test_model = model.predict(X_test)\n",
        "print(\"Fold Accuracies: {}\".format(scores))\n",
        "print(\"Accuracy: {:3.2f}\".format(scores.mean()))"
      ],
      "execution_count": null,
      "outputs": [
        {
          "output_type": "stream",
          "text": [
            "if Culmen =< 20.950000762939453: \n",
            "  |then if Hallux =< 17.000000476837158: \n",
            "  |  |then Sharp-Shinned\n",
            "  |  |else if Hallux =< 24.75: \n",
            "  |  |  |then Coopers Hawk\n",
            "  |  |  |else Sharp-Shinned\n",
            "  |else if Hallux =< 24.550000190734863: \n",
            "  |  |then if Culmen =< 26.199999809265137: \n",
            "  |  |  |then Coopers Hawk\n",
            "  |  |  |else Red-Tailed\n",
            "  |  |else Red-Tailed\n",
            "<------->\n",
            "Tree Depth:  3\n",
            "Train Accuracy: 0.99\n",
            "Fold Accuracies: [0.91061453 0.90449438 0.92134831 0.92134831 0.92134831]\n",
            "Accuracy: 0.92\n"
          ],
          "name": "stdout"
        }
      ]
    },
    {
      "cell_type": "markdown",
      "metadata": {
        "id": "56lUFWIYxl1e"
      },
      "source": [
        "##**High-Complexity:**"
      ]
    },
    {
      "cell_type": "code",
      "metadata": {
        "colab": {
          "base_uri": "https://localhost:8080/"
        },
        "id": "ndgeUBNVxp6o",
        "outputId": "1d93876e-e58d-4a49-fb14-77fdffff6ffe"
      },
      "source": [
        "# set up the tree model object - limit the complexity to put us somewhere in the middle of the graph.\n",
        "model = tree.DecisionTreeClassifier(criterion='entropy', max_depth=None)\n",
        "\n",
        "# fit the model on the training set of data\n",
        "model.fit(X_train, y_train)\n",
        "tree_print(model,X)\n",
        "\n",
        "# Train results: evaluate the model on the testing set of data\n",
        "y_train_model = model.predict(X_train)\n",
        "print(\"Train Accuracy: {:3.2f}\".format(accuracy_score(y_train, y_train_model)))\n",
        "\n",
        "# Test results: evaluate the model on the testing set of data\n",
        "y_test_model = model.predict(X_test)\n",
        "print(\"Fold Accuracies: {}\".format(scores))\n",
        "print(\"Accuracy: {:3.2f}\".format(scores.mean()))"
      ],
      "execution_count": null,
      "outputs": [
        {
          "output_type": "stream",
          "text": [
            "if Weight =< 700.0: \n",
            "  |then if Hallux =< 17.000000476837158: \n",
            "  |  |then Sharp-Shinned\n",
            "  |  |else if Hallux =< 24.75: \n",
            "  |  |  |then Coopers Hawk\n",
            "  |  |  |else if Tail =< 196.0: \n",
            "  |  |  |  |then Sharp-Shinned\n",
            "  |  |  |  |else if Tail =< 202.5: \n",
            "  |  |  |  |  |then Red-Tailed\n",
            "  |  |  |  |  |else Coopers Hawk\n",
            "  |else if Hallux =< 24.550000190734863: \n",
            "  |  |then if Wing =< 386.5: \n",
            "  |  |  |then Coopers Hawk\n",
            "  |  |  |else Red-Tailed\n",
            "  |  |else Red-Tailed\n",
            "<------------->\n",
            "Tree Depth:  5\n",
            "Train Accuracy: 1.00\n",
            "Fold Accuracies: [0.91061453 0.90449438 0.92134831 0.92134831 0.92134831]\n",
            "Accuracy: 0.92\n"
          ],
          "name": "stdout"
        }
      ]
    },
    {
      "cell_type": "markdown",
      "metadata": {
        "id": "jf0ai2wf5Q-C"
      },
      "source": [
        "##**Best Tree With Confusion Matrix:**"
      ]
    },
    {
      "cell_type": "code",
      "metadata": {
        "colab": {
          "base_uri": "https://localhost:8080/"
        },
        "id": "D7JkF-2J4tQ-",
        "outputId": "e9a33394-823a-4cb2-e00b-0fe027f73bc4"
      },
      "source": [
        "from sklearn.metrics import confusion_matrix\n",
        "from assets.confint import classification_confint\n",
        "from sklearn.model_selection import GridSearchCV\n",
        "# decision trees\n",
        "model = tree.DecisionTreeClassifier(random_state=1)\n",
        "\n",
        "# grid search\n",
        "param_grid = {'max_depth': list(range(1,21)), 'criterion': ['entropy','gini'] }\n",
        "grid = GridSearchCV(model, param_grid, cv=5)\n",
        "grid.fit(X, y)\n",
        "print(\"Grid Search: best parameters: {}\".format(grid.best_params_))\n",
        "\n",
        "# accuracy of best model with confidence interval\n",
        "best_model = grid.best_estimator_\n",
        "predict_y = best_model.predict(X)\n",
        "acc = accuracy_score(y, predict_y)\n",
        "lb,ub = classification_confint(acc,X.shape[0])\n",
        "print(\"Accuracy: {:3.2f} ({:3.2f},{:3.2f})\".format(acc,lb,ub))\n",
        "\n",
        "# build the confusion matrix\n",
        "cm = confusion_matrix(y, predict_y)\n",
        "cm_df = pd.DataFrame(cm)\n",
        "print(\"Confusion Matrix:\\n{}\".format(cm_df))"
      ],
      "execution_count": null,
      "outputs": [
        {
          "output_type": "stream",
          "text": [
            "Grid Search: best parameters: {'criterion': 'gini', 'max_depth': 5}\n",
            "Accuracy: 1.00 (1.00,1.00)\n",
            "Confusion Matrix:\n",
            "    0    1    2\n",
            "0  69    0    0\n",
            "1   0  567    0\n",
            "2   1    0  254\n"
          ],
          "name": "stdout"
        }
      ]
    },
    {
      "cell_type": "markdown",
      "metadata": {
        "id": "l_SZnBqn3SO7"
      },
      "source": [
        "##**KNN:**"
      ]
    },
    {
      "cell_type": "code",
      "metadata": {
        "colab": {
          "base_uri": "https://localhost:8080/"
        },
        "id": "8dqk4_w93Qq4",
        "outputId": "732e947e-e116-4fdc-eb07-1d5864b19ba2"
      },
      "source": [
        "import numpy as np\n",
        "np.set_printoptions(formatter={'float_kind':\"{:3.2f}\".format})\n",
        "from sklearn.neighbors import KNeighborsClassifier\n",
        "# set up the model with k=3\n",
        "model = KNeighborsClassifier(n_neighbors=3)\n",
        "\n",
        "# do train-test\n",
        "train_X, test_X, train_y, test_y = train_test_split(X, y, train_size=0.8, test_size=0.2)\n",
        "model.fit(train_X, train_y)\n",
        "predict_y = model.predict(test_X)\n",
        "print(\"Train-Test Accuracy: {:3.2f}\".format(accuracy_score(test_y, predict_y)))\n",
        "\n",
        "# do the 5-fold cross validation\n",
        "scores = cross_val_score(model, X, y, cv=5)\n",
        "print(\"Fold Accuracies: {}\".format(scores))\n",
        "print(\"XV Accuracy: {:3.2f}\".format(scores.mean()))"
      ],
      "execution_count": null,
      "outputs": [
        {
          "output_type": "stream",
          "text": [
            "Train-Test Accuracy: 0.98\n",
            "Fold Accuracies: [0.99 0.95 0.99 0.98 1.00]\n",
            "XV Accuracy: 0.98\n"
          ],
          "name": "stdout"
        }
      ]
    },
    {
      "cell_type": "markdown",
      "metadata": {
        "id": "LWuE-K1-5dF-"
      },
      "source": [
        "##**KNN with Confusion Matrix:**"
      ]
    },
    {
      "cell_type": "code",
      "metadata": {
        "colab": {
          "base_uri": "https://localhost:8080/"
        },
        "id": "4NoptnKx8SNz",
        "outputId": "17b9c24c-7e42-4995-8f13-f80e14c69b3c"
      },
      "source": [
        "# KNN\n",
        "model = KNeighborsClassifier()\n",
        "\n",
        "# grid search\n",
        "param_grid = {'n_neighbors': list(range(1,51))}\n",
        "grid = GridSearchCV(model, param_grid, cv=5)\n",
        "grid.fit(X,y)\n",
        "print(\"Grid Search: best parameters: {}\".format(grid.best_params_))\n",
        "\n",
        "# accuracy of best model with confidence interval\n",
        "best_model = grid.best_estimator_\n",
        "predict_y = best_model.predict(X)\n",
        "acc = accuracy_score(y, predict_y)\n",
        "lb,ub = classification_confint(acc,X.shape[0])\n",
        "print(\"Accuracy: {:3.2f} ({:3.2f},{:3.2f})\".format(acc,lb,ub))\n",
        "\n",
        "# build the confusion matrix\n",
        "cm = confusion_matrix(y, predict_y)\n",
        "cm_df = pd.DataFrame(cm)\n",
        "print(\"Confusion Matrix:\\n{}\".format(cm_df))"
      ],
      "execution_count": null,
      "outputs": [
        {
          "output_type": "stream",
          "text": [
            "Grid Search: best parameters: {'n_neighbors': 2}\n",
            "Accuracy: 0.99 (0.99,1.00)\n",
            "Confusion Matrix:\n",
            "    0    1    2\n",
            "0  69    0    0\n",
            "1   3  564    0\n",
            "2   3    1  251\n"
          ],
          "name": "stdout"
        }
      ]
    },
    {
      "cell_type": "markdown",
      "metadata": {
        "id": "oz7-E4fQAtJ5"
      },
      "source": [
        "##**NonLinear-Regression:**\n",
        "Is there any relation between Culmen(tip of beak) and Hallux(talon)?"
      ]
    },
    {
      "cell_type": "code",
      "metadata": {
        "colab": {
          "base_uri": "https://localhost:8080/",
          "height": 297
        },
        "id": "-Ltjbm4mA6Nz",
        "outputId": "0d1cee72-9ed1-48c2-b0c5-a1b8739fdd51"
      },
      "source": [
        "%matplotlib inline\n",
        "import matplotlib.pyplot as plt\n",
        "from sklearn.neural_network import MLPRegressor\n",
        "#model\n",
        "model = MLPRegressor(hidden_layer_sizes=(100,), activation='tanh', max_iter=50000)\n",
        "model.fit(df['Culmen'].values.reshape(-1,1),df['Hallux'])\n",
        "# plot the model ontop of the data\n",
        "plt.scatter(df['Culmen'],df['Hallux'])\n",
        "plt.xlabel('Culmen')\n",
        "plt.ylabel('Hallux')\n",
        "\n",
        "x_ticks = np.arange(0,25.0,0.1)\n",
        "y_ticks = model.predict(x_ticks.reshape(-1, 1))\n",
        "plt.plot(x_ticks,y_ticks,\"r-\")\n",
        "\n",
        "# compute the R^2 score \n",
        "rs = model.score(df['Culmen'].values.reshape(-1,1),df['Hallux'])\n",
        "print(\"R^2 score: {:3.2f}\".format(rs))"
      ],
      "execution_count": null,
      "outputs": [
        {
          "output_type": "stream",
          "text": [
            "R^2 score: 0.19\n"
          ],
          "name": "stdout"
        },
        {
          "output_type": "display_data",
          "data": {
            "image/png": "[encoded data removed]",
            "text/plain": [
              "<Figure size 432x288 with 1 Axes>"
            ]
          },
          "metadata": {
            "tags": [],
            "needs_background": "light"
          }
        }
      ]
    },
    {
      "cell_type": "markdown",
      "metadata": {
        "id": "ZgoVQ0e7Ce9R"
      },
      "source": [
        "##**KNN Regression:**"
      ]
    },
    {
      "cell_type": "code",
      "metadata": {
        "colab": {
          "base_uri": "https://localhost:8080/",
          "height": 314
        },
        "id": "o6j8471ECi1i",
        "outputId": "e9d3dbe5-8872-4e87-ff3c-f45ba2c0e99d"
      },
      "source": [
        "from sklearn.neighbors import KNeighborsRegressor\n",
        "from assets.confint import regression_confint\n",
        "X = df['Culmen'].values.reshape(-1,1)\n",
        "y = df['Hallux']\n",
        "# setting up grid search\n",
        "model = KNeighborsRegressor()\n",
        "param_grid = {'n_neighbors': list(range(1,11))}\n",
        "grid = GridSearchCV(model, param_grid, cv=5)\n",
        "\n",
        "# performing grid search\n",
        "grid.fit(X,y)\n",
        "\n",
        "# print out what we found\n",
        "print(\"Best parameters: {}\".format(grid.best_params_))\n",
        "\n",
        "# plot the best model ontop of the data\n",
        "plt.scatter(df['Culmen'],df['Hallux'])\n",
        "plt.xlabel('Culmen')\n",
        "plt.ylabel('Hallux')\n",
        "\n",
        "best_model = grid.best_estimator_\n",
        "x_ticks = np.arange(0,25.0,0.1)\n",
        "y_ticks = best_model.predict(x_ticks.reshape(-1, 1))\n",
        "plt.plot(x_ticks,y_ticks,\"r-\")\n",
        "\n",
        "# compute the R^2 score and CI of the best model\n",
        "rs = best_model.score(df['Culmen'].values.reshape(-1,1),df['Hallux'])\n",
        "obs = df.shape[0]\n",
        "vars = 1\n",
        "lb, ub = regression_confint(rs, obs, vars)\n",
        "print(\"R^2 score: {:3.2f} ({:3.2f}, {:3.2f})\".format(rs,lb,ub))"
      ],
      "execution_count": null,
      "outputs": [
        {
          "output_type": "stream",
          "text": [
            "Best parameters: {'n_neighbors': 10}\n",
            "R^2 score: 0.25 (0.20, 0.30)\n"
          ],
          "name": "stdout"
        },
        {
          "output_type": "display_data",
          "data": {
            "image/png": "[encoded data removed]",
            "text/plain": [
              "<Figure size 432x288 with 1 Axes>"
            ]
          },
          "metadata": {
            "tags": [],
            "needs_background": "light"
          }
        }
      ]
    },
    {
      "cell_type": "markdown",
      "metadata": {
        "id": "8RELFbtrCIvu"
      },
      "source": [
        "Is there any relation between Wing and Tail?"
      ]
    },
    {
      "cell_type": "code",
      "metadata": {
        "colab": {
          "base_uri": "https://localhost:8080/",
          "height": 314
        },
        "id": "o3qJYTf_6wuw",
        "outputId": "cdb70146-fae1-4e49-e062-baa947b09031"
      },
      "source": [
        "from sklearn.neighbors import KNeighborsRegressor\n",
        "from assets.confint import regression_confint\n",
        "X = df['Wing'].values.reshape(-1,1)\n",
        "y = df['Tail']\n",
        "# setting up grid search\n",
        "model = KNeighborsRegressor()\n",
        "param_grid = {'n_neighbors': list(range(1,11))}\n",
        "grid = GridSearchCV(model, param_grid, cv=5)\n",
        "\n",
        "# performing grid search\n",
        "grid.fit(X,y)\n",
        "\n",
        "# print out what we found\n",
        "print(\"Best parameters: {}\".format(grid.best_params_))\n",
        "\n",
        "# plot the best model ontop of the data\n",
        "plt.scatter(df['Wing'],df['Tail'])\n",
        "plt.xlabel('Wing')\n",
        "plt.ylabel('Tail')\n",
        "\n",
        "best_model = grid.best_estimator_\n",
        "x_ticks = np.arange(0,25.0,0.1)\n",
        "y_ticks = best_model.predict(x_ticks.reshape(-1, 1))\n",
        "plt.plot(x_ticks,y_ticks,\"r-\")\n",
        "\n",
        "# compute the R^2 score and CI of the best model\n",
        "rs = best_model.score(df['Wing'].values.reshape(-1,1),df['Tail'])\n",
        "obs = df.shape[0]\n",
        "vars = 1\n",
        "lb, ub = regression_confint(rs, obs, vars)\n",
        "print(\"R^2 score: {:3.2f} ({:3.2f}, {:3.2f})\".format(rs,lb,ub))"
      ],
      "execution_count": null,
      "outputs": [
        {
          "output_type": "stream",
          "text": [
            "Best parameters: {'n_neighbors': 10}\n",
            "R^2 score: 0.89 (0.87, 0.90)\n"
          ],
          "name": "stdout"
        },
        {
          "output_type": "display_data",
          "data": {
            "image/png": "[encoded data removed]",
            "text/plain": [
              "<Figure size 432x288 with 1 Axes>"
            ]
          },
          "metadata": {
            "tags": [],
            "needs_background": "light"
          }
        }
      ]
    },
    {
      "cell_type": "markdown",
      "metadata": {
        "id": "obskJe4XCQ4e"
      },
      "source": [
        "Is there any relation between Wing and Hallux?"
      ]
    },
    {
      "cell_type": "code",
      "metadata": {
        "colab": {
          "base_uri": "https://localhost:8080/",
          "height": 314
        },
        "id": "327Ja-0h-Ivt",
        "outputId": "855b386d-6a18-4f14-877a-83778b4ac33a"
      },
      "source": [
        "X = df['Wing'].values.reshape(-1,1)\n",
        "y = df['Hallux']\n",
        "# setting up grid search\n",
        "model = KNeighborsRegressor()\n",
        "param_grid = {'n_neighbors': list(range(1,11))}\n",
        "grid = GridSearchCV(model, param_grid, cv=5)\n",
        "\n",
        "# performing grid search\n",
        "grid.fit(X,y)\n",
        "\n",
        "# print out what we found\n",
        "print(\"Best parameters: {}\".format(grid.best_params_))\n",
        "\n",
        "# plot the best model ontop of the data\n",
        "plt.scatter(df['Wing'],df['Hallux'])\n",
        "plt.xlabel('Wing')\n",
        "plt.ylabel('Hallux')\n",
        "\n",
        "best_model = grid.best_estimator_\n",
        "x_ticks = np.arange(0,25.0,0.1)\n",
        "y_ticks = best_model.predict(x_ticks.reshape(-1, 1))\n",
        "plt.plot(x_ticks,y_ticks,\"r-\")\n",
        "\n",
        "# compute the R^2 score and CI of the best model\n",
        "rs = best_model.score(df['Wing'].values.reshape(-1,1),df['Hallux'])\n",
        "obs = df.shape[0]\n",
        "vars = 1\n",
        "lb, ub = regression_confint(rs, obs, vars)\n",
        "print(\"R^2 score: {:3.2f} ({:3.2f}, {:3.2f})\".format(rs,lb,ub))"
      ],
      "execution_count": null,
      "outputs": [
        {
          "output_type": "stream",
          "text": [
            "Best parameters: {'n_neighbors': 9}\n",
            "R^2 score: 0.26 (0.21, 0.31)\n"
          ],
          "name": "stdout"
        },
        {
          "output_type": "display_data",
          "data": {
            "image/png": "[encoded data removed]",
            "text/plain": [
              "<Figure size 432x288 with 1 Axes>"
            ]
          },
          "metadata": {
            "tags": [],
            "needs_background": "light"
          }
        }
      ]
    },
    {
      "cell_type": "markdown",
      "metadata": {
        "id": "Cmiplfx3CVt_"
      },
      "source": [
        "Is there any relation between Culmen and Tail?"
      ]
    },
    {
      "cell_type": "code",
      "metadata": {
        "colab": {
          "base_uri": "https://localhost:8080/",
          "height": 314
        },
        "id": "ODJzLmId-_K2",
        "outputId": "a06b2e61-bff2-4e04-d548-09a4e276b027"
      },
      "source": [
        "X = df['Culmen'].values.reshape(-1,1)\n",
        "y = df['Tail']\n",
        "# setting up grid search\n",
        "model = KNeighborsRegressor()\n",
        "param_grid = {'n_neighbors': list(range(1,11))}\n",
        "grid = GridSearchCV(model, param_grid, cv=5)\n",
        "\n",
        "# performing grid search\n",
        "grid.fit(X,y)\n",
        "\n",
        "# print out what we found\n",
        "print(\"Best parameters: {}\".format(grid.best_params_))\n",
        "\n",
        "# plot the best model ontop of the data\n",
        "plt.scatter(df['Culmen'],df['Tail'])\n",
        "plt.xlabel('Culmen')\n",
        "plt.ylabel('Tail')\n",
        "\n",
        "best_model = grid.best_estimator_\n",
        "x_ticks = np.arange(0,25.0,0.1)\n",
        "y_ticks = best_model.predict(x_ticks.reshape(-1, 1))\n",
        "plt.plot(x_ticks,y_ticks,\"r-\")\n",
        "\n",
        "# compute the R^2 score and CI of the best model\n",
        "rs = best_model.score(df['Culmen'].values.reshape(-1,1),df['Tail'])\n",
        "obs = df.shape[0]\n",
        "vars = 1\n",
        "lb, ub = regression_confint(rs, obs, vars)\n",
        "print(\"R^2 score: {:3.2f} ({:3.2f}, {:3.2f})\".format(rs,lb,ub))"
      ],
      "execution_count": null,
      "outputs": [
        {
          "output_type": "stream",
          "text": [
            "Best parameters: {'n_neighbors': 10}\n",
            "R^2 score: 0.89 (0.88, 0.91)\n"
          ],
          "name": "stdout"
        },
        {
          "output_type": "display_data",
          "data": {
            "image/png": "[encoded data removed]",
            "text/plain": [
              "<Figure size 432x288 with 1 Axes>"
            ]
          },
          "metadata": {
            "tags": [],
            "needs_background": "light"
          }
        }
      ]
    },
    {
      "cell_type": "markdown",
      "metadata": {
        "id": "1HUYc2RRZrsH"
      },
      "source": [
        "##**Analysis:**\n",
        "##Decesion Trees:\n",
        "For the most part, since the data became really clean and organized, all of the decesion trees were accurate with guessing type of hawk depending on the informarion given even at really low learning rates of only having 30% given with low testing to give the tree less chances of getting the data right. So from just knowing the Culmen length or Weight, it is very easily possible to determine the type of hawk between Red-Tailed, Sharp-Shinned, and Cooper's Hawk. The best tree was KNN(.98 accuracy) vs medium and low- complexity at .92 accuracy.\n",
        "##Regression Models:\n",
        "Culmen and Hallux:\n",
        "From the regression model I have learned Culmen(part of a bird's beak) and Hallux(talon) have very little to do with each other. So with knowledge about a Culmen, it would be very unlikely to guess a Hallux. (.25 score)\n",
        "\n",
        "Wing and Tail: \n",
        "From the regression model I have learned Wing and Tail are related . So with knowledge about a Wing, it would be very likely to guess a Tail.     (.89 score)\n",
        "\n",
        "Wing and Hallux:\n",
        "From the regression model I have learned Wing and Hallux are  not related. So with knowledge about a Wing, it would be very likely to guess a Hallux.(.26 score)\n",
        "\n",
        "Culmen and Tail: \n",
        "From the regression model I have learned Culmen and Tail are related . So with knowledge about a Culmen, it would be very likely to guess a Tail.\n",
        "(.89 score)"
      ]
    }
  ]
}